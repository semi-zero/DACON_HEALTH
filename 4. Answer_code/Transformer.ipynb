{
 "cells": [
  {
   "cell_type": "code",
   "execution_count": 1,
   "metadata": {
    "executionInfo": {
     "elapsed": 4059,
     "status": "ok",
     "timestamp": 1610935013894,
     "user": {
      "displayName": "정은일",
      "photoUrl": "",
      "userId": "02252830369813169346"
     },
     "user_tz": -540
    },
    "id": "tjGJOMk2FxL5"
   },
   "outputs": [],
   "source": [
    "import pandas as pd\n",
    "import numpy as np\n",
    "np.random.seed(42)\n",
    "import random\n",
    "random.seed(42)\n",
    "import matplotlib.pyplot as plt\n",
    "import tensorflow as tf\n",
    "tf.random.set_seed(42)\n",
    "import gc\n",
    "from sklearn.utils import shuffle\n",
    "from sklearn.model_selection import train_test_split\n",
    "from sklearn.model_selection import StratifiedKFold\n",
    "from tqdm import tqdm\n",
    "from glob import glob"
   ]
  },
  {
   "cell_type": "markdown",
   "metadata": {},
   "source": [
    "# 데이터 로드"
   ]
  },
  {
   "cell_type": "code",
   "execution_count": 5,
   "metadata": {
    "executionInfo": {
     "elapsed": 4052,
     "status": "ok",
     "timestamp": 1610935013895,
     "user": {
      "displayName": "정은일",
      "photoUrl": "",
      "userId": "02252830369813169346"
     },
     "user_tz": -540
    },
    "id": "1Y0jm_sRF4oT"
   },
   "outputs": [],
   "source": [
    "path = '.'"
   ]
  },
  {
   "cell_type": "code",
   "execution_count": 6,
   "metadata": {
    "executionInfo": {
     "elapsed": 7329,
     "status": "ok",
     "timestamp": 1610935017177,
     "user": {
      "displayName": "정은일",
      "photoUrl": "",
      "userId": "02252830369813169346"
     },
     "user_tz": -540
    },
    "id": "JLe9tZ32GDeb"
   },
   "outputs": [],
   "source": [
    "train_features = pd.read_csv(path+'/data/train_features.csv')\n",
    "train_labels = pd.read_csv(path+'/data/train_labels.csv')\n",
    "test = pd.read_csv(path+'/data/test_features.csv')\n",
    "sample_submission = pd.read_csv(path + '/data/sample_submission.csv')"
   ]
  },
  {
   "cell_type": "code",
   "execution_count": 7,
   "metadata": {
    "colab": {
     "base_uri": "https://localhost:8080/",
     "height": 204
    },
    "executionInfo": {
     "elapsed": 7321,
     "status": "ok",
     "timestamp": 1610935017177,
     "user": {
      "displayName": "정은일",
      "photoUrl": "",
      "userId": "02252830369813169346"
     },
     "user_tz": -540
    },
    "id": "hawvLz5LGX8b",
    "outputId": "3ce9befb-24bf-43fd-9365-69ef57c9b734"
   },
   "outputs": [
    {
     "data": {
      "text/html": [
       "<div>\n",
       "<style scoped>\n",
       "    .dataframe tbody tr th:only-of-type {\n",
       "        vertical-align: middle;\n",
       "    }\n",
       "\n",
       "    .dataframe tbody tr th {\n",
       "        vertical-align: top;\n",
       "    }\n",
       "\n",
       "    .dataframe thead th {\n",
       "        text-align: right;\n",
       "    }\n",
       "</style>\n",
       "<table border=\"1\" class=\"dataframe\">\n",
       "  <thead>\n",
       "    <tr style=\"text-align: right;\">\n",
       "      <th></th>\n",
       "      <th>id</th>\n",
       "      <th>time</th>\n",
       "      <th>acc_x</th>\n",
       "      <th>acc_y</th>\n",
       "      <th>acc_z</th>\n",
       "      <th>gy_x</th>\n",
       "      <th>gy_y</th>\n",
       "      <th>gy_z</th>\n",
       "    </tr>\n",
       "  </thead>\n",
       "  <tbody>\n",
       "    <tr>\n",
       "      <th>0</th>\n",
       "      <td>0</td>\n",
       "      <td>0</td>\n",
       "      <td>1.206087</td>\n",
       "      <td>-0.179371</td>\n",
       "      <td>-0.148447</td>\n",
       "      <td>-0.591608</td>\n",
       "      <td>-30.549010</td>\n",
       "      <td>-31.676112</td>\n",
       "    </tr>\n",
       "    <tr>\n",
       "      <th>1</th>\n",
       "      <td>0</td>\n",
       "      <td>1</td>\n",
       "      <td>1.287696</td>\n",
       "      <td>-0.198974</td>\n",
       "      <td>-0.182444</td>\n",
       "      <td>0.303100</td>\n",
       "      <td>-39.139103</td>\n",
       "      <td>-24.927216</td>\n",
       "    </tr>\n",
       "    <tr>\n",
       "      <th>2</th>\n",
       "      <td>0</td>\n",
       "      <td>2</td>\n",
       "      <td>1.304609</td>\n",
       "      <td>-0.195114</td>\n",
       "      <td>-0.253382</td>\n",
       "      <td>-3.617278</td>\n",
       "      <td>-44.122565</td>\n",
       "      <td>-25.019629</td>\n",
       "    </tr>\n",
       "    <tr>\n",
       "      <th>3</th>\n",
       "      <td>0</td>\n",
       "      <td>3</td>\n",
       "      <td>1.293095</td>\n",
       "      <td>-0.230366</td>\n",
       "      <td>-0.215210</td>\n",
       "      <td>2.712986</td>\n",
       "      <td>-53.597843</td>\n",
       "      <td>-27.454013</td>\n",
       "    </tr>\n",
       "    <tr>\n",
       "      <th>4</th>\n",
       "      <td>0</td>\n",
       "      <td>4</td>\n",
       "      <td>1.300887</td>\n",
       "      <td>-0.187757</td>\n",
       "      <td>-0.222523</td>\n",
       "      <td>4.286707</td>\n",
       "      <td>-57.906561</td>\n",
       "      <td>-27.961234</td>\n",
       "    </tr>\n",
       "  </tbody>\n",
       "</table>\n",
       "</div>"
      ],
      "text/plain": [
       "   id  time     acc_x     acc_y     acc_z      gy_x       gy_y       gy_z\n",
       "0   0     0  1.206087 -0.179371 -0.148447 -0.591608 -30.549010 -31.676112\n",
       "1   0     1  1.287696 -0.198974 -0.182444  0.303100 -39.139103 -24.927216\n",
       "2   0     2  1.304609 -0.195114 -0.253382 -3.617278 -44.122565 -25.019629\n",
       "3   0     3  1.293095 -0.230366 -0.215210  2.712986 -53.597843 -27.454013\n",
       "4   0     4  1.300887 -0.187757 -0.222523  4.286707 -57.906561 -27.961234"
      ]
     },
     "execution_count": 7,
     "metadata": {},
     "output_type": "execute_result"
    }
   ],
   "source": [
    "train_features.head()"
   ]
  },
  {
   "cell_type": "code",
   "execution_count": 8,
   "metadata": {
    "colab": {
     "base_uri": "https://localhost:8080/",
     "height": 204
    },
    "executionInfo": {
     "elapsed": 7310,
     "status": "ok",
     "timestamp": 1610935017177,
     "user": {
      "displayName": "정은일",
      "photoUrl": "",
      "userId": "02252830369813169346"
     },
     "user_tz": -540
    },
    "id": "Ab7Tvzx5HACW",
    "outputId": "87dd6829-ef8a-4b0c-bbf1-a5d57c87eae1"
   },
   "outputs": [
    {
     "data": {
      "text/html": [
       "<div>\n",
       "<style scoped>\n",
       "    .dataframe tbody tr th:only-of-type {\n",
       "        vertical-align: middle;\n",
       "    }\n",
       "\n",
       "    .dataframe tbody tr th {\n",
       "        vertical-align: top;\n",
       "    }\n",
       "\n",
       "    .dataframe thead th {\n",
       "        text-align: right;\n",
       "    }\n",
       "</style>\n",
       "<table border=\"1\" class=\"dataframe\">\n",
       "  <thead>\n",
       "    <tr style=\"text-align: right;\">\n",
       "      <th></th>\n",
       "      <th>id</th>\n",
       "      <th>label</th>\n",
       "      <th>label_desc</th>\n",
       "    </tr>\n",
       "  </thead>\n",
       "  <tbody>\n",
       "    <tr>\n",
       "      <th>0</th>\n",
       "      <td>0</td>\n",
       "      <td>37</td>\n",
       "      <td>Shoulder Press (dumbbell)</td>\n",
       "    </tr>\n",
       "    <tr>\n",
       "      <th>1</th>\n",
       "      <td>1</td>\n",
       "      <td>26</td>\n",
       "      <td>Non-Exercise</td>\n",
       "    </tr>\n",
       "    <tr>\n",
       "      <th>2</th>\n",
       "      <td>2</td>\n",
       "      <td>3</td>\n",
       "      <td>Biceps Curl (band)</td>\n",
       "    </tr>\n",
       "    <tr>\n",
       "      <th>3</th>\n",
       "      <td>3</td>\n",
       "      <td>26</td>\n",
       "      <td>Non-Exercise</td>\n",
       "    </tr>\n",
       "    <tr>\n",
       "      <th>4</th>\n",
       "      <td>4</td>\n",
       "      <td>26</td>\n",
       "      <td>Non-Exercise</td>\n",
       "    </tr>\n",
       "  </tbody>\n",
       "</table>\n",
       "</div>"
      ],
      "text/plain": [
       "   id  label                 label_desc\n",
       "0   0     37  Shoulder Press (dumbbell)\n",
       "1   1     26               Non-Exercise\n",
       "2   2      3         Biceps Curl (band)\n",
       "3   3     26               Non-Exercise\n",
       "4   4     26               Non-Exercise"
      ]
     },
     "execution_count": 8,
     "metadata": {},
     "output_type": "execute_result"
    }
   ],
   "source": [
    "train_labels.head()"
   ]
  },
  {
   "cell_type": "code",
   "execution_count": 9,
   "metadata": {
    "colab": {
     "base_uri": "https://localhost:8080/",
     "height": 204
    },
    "executionInfo": {
     "elapsed": 7298,
     "status": "ok",
     "timestamp": 1610935017178,
     "user": {
      "displayName": "정은일",
      "photoUrl": "",
      "userId": "02252830369813169346"
     },
     "user_tz": -540
    },
    "id": "cDgkuotLv9qR",
    "outputId": "23e54a91-9d1e-4a37-d93e-e398f138fbc6"
   },
   "outputs": [
    {
     "data": {
      "text/html": [
       "<div>\n",
       "<style scoped>\n",
       "    .dataframe tbody tr th:only-of-type {\n",
       "        vertical-align: middle;\n",
       "    }\n",
       "\n",
       "    .dataframe tbody tr th {\n",
       "        vertical-align: top;\n",
       "    }\n",
       "\n",
       "    .dataframe thead th {\n",
       "        text-align: right;\n",
       "    }\n",
       "</style>\n",
       "<table border=\"1\" class=\"dataframe\">\n",
       "  <thead>\n",
       "    <tr style=\"text-align: right;\">\n",
       "      <th></th>\n",
       "      <th>id</th>\n",
       "      <th>time</th>\n",
       "      <th>acc_x</th>\n",
       "      <th>acc_y</th>\n",
       "      <th>acc_z</th>\n",
       "      <th>gy_x</th>\n",
       "      <th>gy_y</th>\n",
       "      <th>gy_z</th>\n",
       "    </tr>\n",
       "  </thead>\n",
       "  <tbody>\n",
       "    <tr>\n",
       "      <th>0</th>\n",
       "      <td>3125</td>\n",
       "      <td>0</td>\n",
       "      <td>-0.628100</td>\n",
       "      <td>-0.160155</td>\n",
       "      <td>0.151487</td>\n",
       "      <td>49.665357</td>\n",
       "      <td>88.435961</td>\n",
       "      <td>13.597668</td>\n",
       "    </tr>\n",
       "    <tr>\n",
       "      <th>1</th>\n",
       "      <td>3125</td>\n",
       "      <td>1</td>\n",
       "      <td>-0.462548</td>\n",
       "      <td>0.012462</td>\n",
       "      <td>-0.053726</td>\n",
       "      <td>56.953059</td>\n",
       "      <td>96.185341</td>\n",
       "      <td>16.278458</td>\n",
       "    </tr>\n",
       "    <tr>\n",
       "      <th>2</th>\n",
       "      <td>3125</td>\n",
       "      <td>2</td>\n",
       "      <td>-0.363481</td>\n",
       "      <td>-0.091789</td>\n",
       "      <td>-0.130004</td>\n",
       "      <td>29.557396</td>\n",
       "      <td>93.836453</td>\n",
       "      <td>13.329043</td>\n",
       "    </tr>\n",
       "    <tr>\n",
       "      <th>3</th>\n",
       "      <td>3125</td>\n",
       "      <td>3</td>\n",
       "      <td>-0.351750</td>\n",
       "      <td>-0.239870</td>\n",
       "      <td>-0.193053</td>\n",
       "      <td>23.686172</td>\n",
       "      <td>88.608721</td>\n",
       "      <td>13.449771</td>\n",
       "    </tr>\n",
       "    <tr>\n",
       "      <th>4</th>\n",
       "      <td>3125</td>\n",
       "      <td>4</td>\n",
       "      <td>-0.312934</td>\n",
       "      <td>-0.123762</td>\n",
       "      <td>-0.318621</td>\n",
       "      <td>20.410071</td>\n",
       "      <td>85.327707</td>\n",
       "      <td>13.884912</td>\n",
       "    </tr>\n",
       "  </tbody>\n",
       "</table>\n",
       "</div>"
      ],
      "text/plain": [
       "     id  time     acc_x     acc_y     acc_z       gy_x       gy_y       gy_z\n",
       "0  3125     0 -0.628100 -0.160155  0.151487  49.665357  88.435961  13.597668\n",
       "1  3125     1 -0.462548  0.012462 -0.053726  56.953059  96.185341  16.278458\n",
       "2  3125     2 -0.363481 -0.091789 -0.130004  29.557396  93.836453  13.329043\n",
       "3  3125     3 -0.351750 -0.239870 -0.193053  23.686172  88.608721  13.449771\n",
       "4  3125     4 -0.312934 -0.123762 -0.318621  20.410071  85.327707  13.884912"
      ]
     },
     "execution_count": 9,
     "metadata": {},
     "output_type": "execute_result"
    }
   ],
   "source": [
    "test.head()"
   ]
  },
  {
   "cell_type": "markdown",
   "metadata": {},
   "source": [
    "# 데이터 전처리\n",
    "\n",
    "특별한 전처리 과정 없이 제공된 데이터를 그대로 학습데이터로 활용"
   ]
  },
  {
   "cell_type": "code",
   "execution_count": 10,
   "metadata": {
    "colab": {
     "base_uri": "https://localhost:8080/"
    },
    "executionInfo": {
     "elapsed": 16837,
     "status": "ok",
     "timestamp": 1610935026726,
     "user": {
      "displayName": "정은일",
      "photoUrl": "",
      "userId": "02252830369813169346"
     },
     "user_tz": -540
    },
    "id": "3JZgbdmdHBUD",
    "outputId": "9e74256a-4d20-4ebc-cb8b-db9866e65eab"
   },
   "outputs": [
    {
     "name": "stderr",
     "output_type": "stream",
     "text": [
      "100%|██████████| 3125/3125 [00:04<00:00, 635.01it/s]\n",
      "100%|██████████| 782/782 [00:00<00:00, 1385.49it/s]\n"
     ]
    }
   ],
   "source": [
    "x_train = []\n",
    "\n",
    "for uid in tqdm(train_features['id'].unique()):\n",
    "    temp = np.array(train_features[train_features['id'] == uid].iloc[:,2:], np.float32).T\n",
    "    x_train.append(temp)\n",
    "\n",
    "x_train = np.array(x_train, np.float32)\n",
    "x_train_ori = x_train[:,:,:,np.newaxis]\n",
    "\n",
    "x_test = []\n",
    "\n",
    "for uid in tqdm(test['id'].unique()):\n",
    "    temp = np.array(test[test['id'] == uid].iloc[:,2:], np.float32).T\n",
    "    x_test.append(temp)\n",
    "\n",
    "x_test = np.array(x_test, np.float32)\n",
    "x_test = x_test[:,:,:,np.newaxis]"
   ]
  },
  {
   "cell_type": "code",
   "execution_count": 11,
   "metadata": {
    "colab": {
     "base_uri": "https://localhost:8080/"
    },
    "executionInfo": {
     "elapsed": 16829,
     "status": "ok",
     "timestamp": 1610935026727,
     "user": {
      "displayName": "정은일",
      "photoUrl": "",
      "userId": "02252830369813169346"
     },
     "user_tz": -540
    },
    "id": "YG9ALfooHZFD",
    "outputId": "8ab0ea8a-3c68-4add-ac36-94922cb00221"
   },
   "outputs": [
    {
     "data": {
      "text/plain": [
       "((6, 600), (6, 600, 1))"
      ]
     },
     "execution_count": 11,
     "metadata": {},
     "output_type": "execute_result"
    }
   ],
   "source": [
    "x_train[5].shape, x_test[0].shape"
   ]
  },
  {
   "cell_type": "markdown",
   "metadata": {},
   "source": [
    "# 데이터 시각화"
   ]
  },
  {
   "cell_type": "code",
   "execution_count": 12,
   "metadata": {
    "executionInfo": {
     "elapsed": 16822,
     "status": "ok",
     "timestamp": 1610935026727,
     "user": {
      "displayName": "정은일",
      "photoUrl": "",
      "userId": "02252830369813169346"
     },
     "user_tz": -540
    },
    "id": "XCzgDn0xH8QW"
   },
   "outputs": [],
   "source": [
    "def vis(uid):\n",
    "    plt.plot(x_train_ori[uid][0,:,0])\n",
    "    plt.plot(x_train_ori[uid][1,:,0])\n",
    "    plt.plot(x_train_ori[uid][2,:,0])\n",
    "    plt.show()\n",
    "    \n",
    "    plt.plot(x_train_ori[uid][3,:,0])\n",
    "    plt.plot(x_train_ori[uid][4,:,0])\n",
    "    plt.plot(x_train_ori[uid][5,:,0])\n",
    "    plt.show()"
   ]
  },
  {
   "cell_type": "code",
   "execution_count": 13,
   "metadata": {
    "colab": {
     "base_uri": "https://localhost:8080/",
     "height": 513
    },
    "executionInfo": {
     "elapsed": 17610,
     "status": "ok",
     "timestamp": 1610935027522,
     "user": {
      "displayName": "정은일",
      "photoUrl": "",
      "userId": "02252830369813169346"
     },
     "user_tz": -540
    },
    "id": "IuWy4yu6H3Rz",
    "outputId": "70adca33-8480-4d79-f2ef-6525ce40a400"
   },
   "outputs": [
    {
     "data": {
      "image/png": "[encoded data removed]",
      "text/plain": [
       "<Figure size 432x288 with 1 Axes>"
      ]
     },
     "metadata": {
      "needs_background": "light"
     },
     "output_type": "display_data"
    },
    {
     "data": {
      "image/png": "[encoded data removed]",
      "text/plain": [
       "<Figure size 432x288 with 1 Axes>"
      ]
     },
     "metadata": {
      "needs_background": "light"
     },
     "output_type": "display_data"
    }
   ],
   "source": [
    "vis(0)"
   ]
  },
  {
   "cell_type": "code",
   "execution_count": 14,
   "metadata": {
    "colab": {
     "base_uri": "https://localhost:8080/"
    },
    "executionInfo": {
     "elapsed": 17603,
     "status": "ok",
     "timestamp": 1610935027523,
     "user": {
      "displayName": "정은일",
      "photoUrl": "",
      "userId": "02252830369813169346"
     },
     "user_tz": -540
    },
    "id": "6cDivtkndF36",
    "outputId": "39d91f74-8b13-4984-d162-e8471fa7aa07"
   },
   "outputs": [
    {
     "data": {
      "text/plain": [
       "3125"
      ]
     },
     "execution_count": 14,
     "metadata": {},
     "output_type": "execute_result"
    }
   ],
   "source": [
    "x_train_ori.shape[0]"
   ]
  },
  {
   "cell_type": "code",
   "execution_count": 15,
   "metadata": {
    "colab": {
     "base_uri": "https://localhost:8080/"
    },
    "executionInfo": {
     "elapsed": 17596,
     "status": "ok",
     "timestamp": 1610935027523,
     "user": {
      "displayName": "정은일",
      "photoUrl": "",
      "userId": "02252830369813169346"
     },
     "user_tz": -540
    },
    "id": "XVHYPXzXiJoS",
    "outputId": "7b2efdd6-b4db-4ead-b58b-8289e5d744e3"
   },
   "outputs": [
    {
     "data": {
      "text/plain": [
       "26    1518\n",
       "8       97\n",
       "28      55\n",
       "60      48\n",
       "18      47\n",
       "      ... \n",
       "53      13\n",
       "52      12\n",
       "13      12\n",
       "12      12\n",
       "0       12\n",
       "Name: label, Length: 61, dtype: int64"
      ]
     },
     "execution_count": 15,
     "metadata": {},
     "output_type": "execute_result"
    }
   ],
   "source": [
    "train_labels['label'].value_counts()"
   ]
  },
  {
   "cell_type": "markdown",
   "metadata": {},
   "source": [
    "# 디코더 입력 레이블 추가"
   ]
  },
  {
   "cell_type": "code",
   "execution_count": 16,
   "metadata": {
    "executionInfo": {
     "elapsed": 17589,
     "status": "ok",
     "timestamp": 1610935027523,
     "user": {
      "displayName": "정은일",
      "photoUrl": "",
      "userId": "02252830369813169346"
     },
     "user_tz": -540
    },
    "id": "vRsxhuD2_con"
   },
   "outputs": [],
   "source": [
    "train_labels['start'] = 0\n",
    "target_list = ['start', 'label']\n",
    "train_labels = train_labels[target_list]"
   ]
  },
  {
   "cell_type": "code",
   "execution_count": 17,
   "metadata": {
    "executionInfo": {
     "elapsed": 17585,
     "status": "ok",
     "timestamp": 1610935027524,
     "user": {
      "displayName": "정은일",
      "photoUrl": "",
      "userId": "02252830369813169346"
     },
     "user_tz": -540
    },
    "id": "9bBGgLFOIme7"
   },
   "outputs": [],
   "source": [
    "y_train_ori = np.array(train_labels, np.int32)"
   ]
  },
  {
   "cell_type": "code",
   "execution_count": 18,
   "metadata": {
    "colab": {
     "base_uri": "https://localhost:8080/"
    },
    "executionInfo": {
     "elapsed": 17579,
     "status": "ok",
     "timestamp": 1610935027524,
     "user": {
      "displayName": "정은일",
      "photoUrl": "",
      "userId": "02252830369813169346"
     },
     "user_tz": -540
    },
    "id": "_ppex7laJFxr",
    "outputId": "fddb35f3-887a-449e-9fda-acdcf88dd107"
   },
   "outputs": [
    {
     "data": {
      "text/plain": [
       "array([[ 0, 37],\n",
       "       [ 0, 26],\n",
       "       [ 0,  3],\n",
       "       ...,\n",
       "       [ 0, 15],\n",
       "       [ 0, 26],\n",
       "       [ 0,  2]], dtype=int32)"
      ]
     },
     "execution_count": 18,
     "metadata": {},
     "output_type": "execute_result"
    }
   ],
   "source": [
    "y_train_ori"
   ]
  },
  {
   "cell_type": "code",
   "execution_count": 19,
   "metadata": {
    "colab": {
     "base_uri": "https://localhost:8080/"
    },
    "executionInfo": {
     "elapsed": 18039,
     "status": "ok",
     "timestamp": 1610935027992,
     "user": {
      "displayName": "정은일",
      "photoUrl": "",
      "userId": "02252830369813169346"
     },
     "user_tz": -540
    },
    "id": "QQ26tfVTKAXI",
    "outputId": "ddf8b40d-6ef3-4293-8937-6c17b1bd26e8"
   },
   "outputs": [
    {
     "data": {
      "text/plain": [
       "((3125, 6, 600, 1), (3125, 2))"
      ]
     },
     "execution_count": 19,
     "metadata": {},
     "output_type": "execute_result"
    }
   ],
   "source": [
    "x_train_ori.shape, y_train_ori.shape"
   ]
  },
  {
   "cell_type": "code",
   "execution_count": 20,
   "metadata": {
    "colab": {
     "base_uri": "https://localhost:8080/"
    },
    "executionInfo": {
     "elapsed": 18033,
     "status": "ok",
     "timestamp": 1610935027993,
     "user": {
      "displayName": "정은일",
      "photoUrl": "",
      "userId": "02252830369813169346"
     },
     "user_tz": -540
    },
    "id": "3r4jYtvCb3np",
    "outputId": "a66f3b31-4187-409e-85b1-47ee041be821"
   },
   "outputs": [
    {
     "data": {
      "text/plain": [
       "(2812, 2812, 313, 313)"
      ]
     },
     "execution_count": 20,
     "metadata": {},
     "output_type": "execute_result"
    }
   ],
   "source": [
    "x_train, x_val, y_train, y_val = train_test_split(x_train_ori, y_train_ori, test_size=0.1, random_state=42)\n",
    "len(x_train), len(y_train), len(x_val), len(y_val)"
   ]
  },
  {
   "cell_type": "markdown",
   "metadata": {},
   "source": [
    "# 데이터 증강 및 데이터 로드 함수 정의"
   ]
  },
  {
   "cell_type": "code",
   "execution_count": 21,
   "metadata": {
    "executionInfo": {
     "elapsed": 18027,
     "status": "ok",
     "timestamp": 1610935027994,
     "user": {
      "displayName": "정은일",
      "photoUrl": "",
      "userId": "02252830369813169346"
     },
     "user_tz": -540
    },
    "id": "knn4gXBVJI-k"
   },
   "outputs": [],
   "source": [
    "def map_func(x_train, y_train):\n",
    "    x_train = random_shift(x_train)\n",
    "    return x_train, y_train\n",
    "\n",
    "def random_shift(data):\n",
    "    shift = int(random.random()*600)\n",
    "    data = np.roll(data, shift, axis=1)\n",
    "    return data\n",
    "\n",
    "def shift(x, y):\n",
    "    new = []\n",
    "    for i in range(5):\n",
    "        temp = np.roll(x, i*120, axis=1)\n",
    "        new.extend(temp)\n",
    "    x = np.array(new)\n",
    "    y = np.concatenate([y]*5)\n",
    "    x, y = shuffle(x, y, random_state=42)\n",
    "    return x,y"
   ]
  },
  {
   "cell_type": "code",
   "execution_count": 22,
   "metadata": {},
   "outputs": [
    {
     "data": {
      "text/plain": [
       "(14060, 6, 600, 1)"
      ]
     },
     "execution_count": 22,
     "metadata": {},
     "output_type": "execute_result"
    }
   ],
   "source": [
    "shift(x_train, y_train)[0].shape"
   ]
  },
  {
   "cell_type": "markdown",
   "metadata": {},
   "source": [
    "# 하이퍼파라미터"
   ]
  },
  {
   "cell_type": "code",
   "execution_count": 23,
   "metadata": {
    "executionInfo": {
     "elapsed": 18022,
     "status": "ok",
     "timestamp": 1610935027994,
     "user": {
      "displayName": "정은일",
      "photoUrl": "",
      "userId": "02252830369813169346"
     },
     "user_tz": -540
    },
    "id": "7lEwpPoOJKNU"
   },
   "outputs": [],
   "source": [
    "BATCH_SIZE = 64\n",
    "EPOCHS = 50\n",
    "early_stopping = 10\n",
    "num_layers = 1 # 4\n",
    "dff = 512 # 2048\n",
    "num_heads = 1 # 8\n",
    "dropout_rate = 0.2\n",
    "d_model = 128 # 512\n",
    "target_size = 61\n",
    "base_channel = 16\n",
    "k = 10\n",
    "learning_rate = 0.00005"
   ]
  },
  {
   "cell_type": "markdown",
   "metadata": {},
   "source": [
    "# 데이터셋 구성"
   ]
  },
  {
   "cell_type": "code",
   "execution_count": 24,
   "metadata": {
    "executionInfo": {
     "elapsed": 18384,
     "status": "ok",
     "timestamp": 1610935028360,
     "user": {
      "displayName": "정은일",
      "photoUrl": "",
      "userId": "02252830369813169346"
     },
     "user_tz": -540
    },
    "id": "dlBnDZUFJLFs"
   },
   "outputs": [],
   "source": [
    "train_dataset = tf.data.Dataset.from_tensor_slices((x_train, y_train))\n",
    "train_dataset = train_dataset.map(lambda item1, item2: tf.numpy_function(map_func, [item1, item2], [tf.float32, tf.int32]), num_parallel_calls=tf.data.experimental.AUTOTUNE)\n",
    "train_dataset = train_dataset.batch(BATCH_SIZE)\n",
    "train_dataset = train_dataset.prefetch(buffer_size=tf.data.experimental.AUTOTUNE)\n",
    "\n",
    "val_dataset = tf.data.Dataset.from_tensor_slices((x_val, y_val))\n",
    "val_dataset = val_dataset.map(lambda item1, item2: tf.numpy_function(map_func, [item1, item2], [tf.float32, tf.int32]), num_parallel_calls=tf.data.experimental.AUTOTUNE)\n",
    "val_dataset = val_dataset.batch(x_val.shape[0])\n",
    "val_dataset = val_dataset.prefetch(buffer_size=tf.data.experimental.AUTOTUNE)"
   ]
  },
  {
   "cell_type": "code",
   "execution_count": 25,
   "metadata": {
    "colab": {
     "base_uri": "https://localhost:8080/"
    },
    "executionInfo": {
     "elapsed": 18377,
     "status": "ok",
     "timestamp": 1610935028360,
     "user": {
      "displayName": "정은일",
      "photoUrl": "",
      "userId": "02252830369813169346"
     },
     "user_tz": -540
    },
    "id": "Pp6N_nHZJNG8",
    "outputId": "94c36c34-971b-4e5a-d5f2-107b09f5491d"
   },
   "outputs": [
    {
     "data": {
      "text/plain": [
       "(TensorShape([64, 6, 600, 1]), TensorShape([64, 2]))"
      ]
     },
     "execution_count": 25,
     "metadata": {},
     "output_type": "execute_result"
    }
   ],
   "source": [
    "next(iter(train_dataset))[0].shape, next(iter(train_dataset))[1].shape"
   ]
  },
  {
   "cell_type": "code",
   "execution_count": 26,
   "metadata": {
    "colab": {
     "base_uri": "https://localhost:8080/"
    },
    "executionInfo": {
     "elapsed": 18370,
     "status": "ok",
     "timestamp": 1610935028360,
     "user": {
      "displayName": "정은일",
      "photoUrl": "",
      "userId": "02252830369813169346"
     },
     "user_tz": -540
    },
    "id": "VGNsTERwJrO8",
    "outputId": "8517d2f2-c162-4292-cd2f-830311de0e4d"
   },
   "outputs": [
    {
     "data": {
      "text/plain": [
       "(TensorShape([313, 6, 600, 1]), TensorShape([313, 2]))"
      ]
     },
     "execution_count": 26,
     "metadata": {},
     "output_type": "execute_result"
    }
   ],
   "source": [
    "next(iter(val_dataset))[0].shape, next(iter(val_dataset))[1].shape"
   ]
  },
  {
   "cell_type": "markdown",
   "metadata": {},
   "source": [
    "# 모델 정의\n",
    "\n",
    "트랜스포머에서 불필요한 레이어 삭제 및 레이어 추가"
   ]
  },
  {
   "cell_type": "code",
   "execution_count": 27,
   "metadata": {
    "executionInfo": {
     "elapsed": 18356,
     "status": "ok",
     "timestamp": 1610935028361,
     "user": {
      "displayName": "정은일",
      "photoUrl": "",
      "userId": "02252830369813169346"
     },
     "user_tz": -540
    },
    "id": "j7LJxKH50yfa"
   },
   "outputs": [],
   "source": [
    "def get_angles(pos, i, d_model):\n",
    "    angle_rates = 1 / np.power(10000, (2 * (i//2)) / np.float32(d_model))\n",
    "    return pos * angle_rates"
   ]
  },
  {
   "cell_type": "code",
   "execution_count": 28,
   "metadata": {
    "executionInfo": {
     "elapsed": 18351,
     "status": "ok",
     "timestamp": 1610935028361,
     "user": {
      "displayName": "정은일",
      "photoUrl": "",
      "userId": "02252830369813169346"
     },
     "user_tz": -540
    },
    "id": "OvktpRI90yfa"
   },
   "outputs": [],
   "source": [
    "def positional_encoding(position, d_model):\n",
    "    angle_rads = get_angles(np.arange(position)[:, np.newaxis],\n",
    "                            np.arange(d_model)[np.newaxis, :],\n",
    "                            d_model)\n",
    "\n",
    "    # apply sin to even indices in the array; 2i\n",
    "    angle_rads[:, 0::2] = np.sin(angle_rads[:, 0::2])\n",
    "    \n",
    "    # apply cos to odd indices in the array; 2i+1\n",
    "    angle_rads[:, 1::2] = np.cos(angle_rads[:, 1::2])\n",
    "\n",
    "    pos_encoding = angle_rads[np.newaxis, ...]\n",
    "\n",
    "    return tf.cast(pos_encoding, dtype=tf.float32)"
   ]
  },
  {
   "cell_type": "code",
   "execution_count": 29,
   "metadata": {
    "executionInfo": {
     "elapsed": 18686,
     "status": "ok",
     "timestamp": 1610935028701,
     "user": {
      "displayName": "정은일",
      "photoUrl": "",
      "userId": "02252830369813169346"
     },
     "user_tz": -540
    },
    "id": "j7Z1zaI00yfa"
   },
   "outputs": [],
   "source": [
    "def create_padding_mask(seq):\n",
    "    seq = tf.cast(tf.math.equal(seq, 0), tf.float32)\n",
    "\n",
    "    # add extra dimensions to add the padding\n",
    "    # to the attention logits.\n",
    "    return seq[:, tf.newaxis, tf.newaxis, :]  # (batch_size, 1, 1, seq_len)"
   ]
  },
  {
   "cell_type": "code",
   "execution_count": 30,
   "metadata": {
    "executionInfo": {
     "elapsed": 18683,
     "status": "ok",
     "timestamp": 1610935028702,
     "user": {
      "displayName": "정은일",
      "photoUrl": "",
      "userId": "02252830369813169346"
     },
     "user_tz": -540
    },
    "id": "B6eIAWrC0yfa"
   },
   "outputs": [],
   "source": [
    "def create_look_ahead_mask(size):\n",
    "    mask = 1 - tf.linalg.band_part(tf.ones((size, size)), -1, 0)\n",
    "    return mask  # (seq_len, seq_len)"
   ]
  },
  {
   "cell_type": "code",
   "execution_count": 31,
   "metadata": {
    "executionInfo": {
     "elapsed": 18678,
     "status": "ok",
     "timestamp": 1610935028702,
     "user": {
      "displayName": "정은일",
      "photoUrl": "",
      "userId": "02252830369813169346"
     },
     "user_tz": -540
    },
    "id": "rZTe51jm0yfa"
   },
   "outputs": [],
   "source": [
    "def scaled_dot_product_attention(q, k, v, mask):\n",
    "    matmul_qk = tf.matmul(q, k, transpose_b=True)  # (..., seq_len_q, seq_len_k)\n",
    "\n",
    "    # scale matmul_qk\n",
    "    dk = tf.cast(tf.shape(k)[-1], tf.float32)\n",
    "    scaled_attention_logits = matmul_qk / tf.math.sqrt(dk)\n",
    "\n",
    "    # add the mask to the scaled tensor.\n",
    "    if mask is not None:\n",
    "        scaled_attention_logits += (mask * -1e9)  \n",
    "\n",
    "    # softmax is normalized on the last axis (seq_len_k) so that the scores\n",
    "    # add up to 1.\n",
    "    attention_weights = tf.nn.softmax(scaled_attention_logits, axis=-1)  # (..., seq_len_q, seq_len_k)\n",
    "\n",
    "    output = tf.matmul(attention_weights, v)  # (..., seq_len_q, depth_v)\n",
    "\n",
    "    return output, attention_weights"
   ]
  },
  {
   "cell_type": "code",
   "execution_count": 32,
   "metadata": {
    "executionInfo": {
     "elapsed": 18674,
     "status": "ok",
     "timestamp": 1610935028702,
     "user": {
      "displayName": "정은일",
      "photoUrl": "",
      "userId": "02252830369813169346"
     },
     "user_tz": -540
    },
    "id": "dq7a87FW0yfa"
   },
   "outputs": [],
   "source": [
    "class MultiHeadAttention(tf.keras.layers.Layer):\n",
    "    def __init__(self, d_model, num_heads):\n",
    "        super(MultiHeadAttention, self).__init__()\n",
    "        \n",
    "        self.num_heads = num_heads\n",
    "        self.d_model = d_model\n",
    "\n",
    "        assert d_model % self.num_heads == 0\n",
    "\n",
    "        self.depth = d_model // self.num_heads\n",
    "\n",
    "        self.wq = tf.keras.layers.Dense(d_model)\n",
    "        self.wk = tf.keras.layers.Dense(d_model)\n",
    "        self.wv = tf.keras.layers.Dense(d_model)\n",
    "\n",
    "        self.dense = tf.keras.layers.Dense(d_model)\n",
    "\n",
    "    def split_heads(self, x, batch_size):\n",
    "        x = tf.reshape(x, (batch_size, -1, self.num_heads, self.depth))\n",
    "        return tf.transpose(x, perm=[0, 2, 1, 3])\n",
    "\n",
    "    def call(self, v, k, q, mask):\n",
    "        batch_size = tf.shape(q)[0]\n",
    "\n",
    "        q = self.wq(q)  # (batch_size, seq_len, d_model)\n",
    "        k = self.wk(k)  # (batch_size, seq_len, d_model)\n",
    "        v = self.wv(v)  # (batch_size, seq_len, d_model)\n",
    "\n",
    "        q = self.split_heads(q, batch_size)  # (batch_size, num_heads, seq_len_q, depth)\n",
    "        k = self.split_heads(k, batch_size)  # (batch_size, num_heads, seq_len_k, depth)\n",
    "        v = self.split_heads(v, batch_size)  # (batch_size, num_heads, seq_len_v, depth)\n",
    "\n",
    "        # scaled_attention.shape == (batch_size, num_heads, seq_len_q, depth)\n",
    "        # attention_weights.shape == (batch_size, num_heads, seq_len_q, seq_len_k)\n",
    "        scaled_attention, attention_weights = scaled_dot_product_attention(q, k, v, mask)\n",
    "\n",
    "        scaled_attention = tf.transpose(scaled_attention, perm=[0, 2, 1, 3])  # (batch_size, seq_len_q, num_heads, depth)\n",
    "\n",
    "        concat_attention = tf.reshape(scaled_attention, (batch_size, -1, self.d_model))  # (batch_size, seq_len_q, d_model)\n",
    "\n",
    "        output = self.dense(concat_attention)  # (batch_size, seq_len_q, d_model)\n",
    "\n",
    "        return output, attention_weights"
   ]
  },
  {
   "cell_type": "code",
   "execution_count": 33,
   "metadata": {
    "executionInfo": {
     "elapsed": 18670,
     "status": "ok",
     "timestamp": 1610935028703,
     "user": {
      "displayName": "정은일",
      "photoUrl": "",
      "userId": "02252830369813169346"
     },
     "user_tz": -540
    },
    "id": "-3yjZ4xE0yfa"
   },
   "outputs": [],
   "source": [
    "def point_wise_feed_forward_network(d_model, dff):\n",
    "    return tf.keras.Sequential([\n",
    "                                tf.keras.layers.Dense(dff, activation='relu'),  # (batch_size, seq_len, dff)\n",
    "                                tf.keras.layers.Dense(d_model)  # (batch_size, seq_len, d_model)\n",
    "                                ])"
   ]
  },
  {
   "cell_type": "markdown",
   "metadata": {},
   "source": [
    "## 인코더\n",
    "\n",
    "6x600의 입력데이터를 1x2 커널을 활용해 다른 데이터끼리 간섭 없이 convolution 및 pooling 진행"
   ]
  },
  {
   "cell_type": "code",
   "execution_count": 34,
   "metadata": {
    "executionInfo": {
     "elapsed": 18665,
     "status": "ok",
     "timestamp": 1610935028703,
     "user": {
      "displayName": "정은일",
      "photoUrl": "",
      "userId": "02252830369813169346"
     },
     "user_tz": -540
    },
    "id": "tfA6QLSy0yfa"
   },
   "outputs": [],
   "source": [
    "class EncoderLayer(tf.keras.Model):\n",
    "    def __init__(self, d_model, num_heads, dff, rate):\n",
    "        super(EncoderLayer, self).__init__()\n",
    "        \n",
    "        self.fc = tf.keras.layers.Dense(d_model, activation='relu')\n",
    "        \n",
    "        self.pos_encoding = positional_encoding(500, d_model)       \n",
    "        self.mha1 = MultiHeadAttention(d_model, num_heads)\n",
    "        self.ffn = point_wise_feed_forward_network(d_model, dff)\n",
    "        \n",
    "        self.layernorm1 = tf.keras.layers.LayerNormalization(epsilon=1e-6)\n",
    "        self.layernorm2 = tf.keras.layers.LayerNormalization(epsilon=1e-6)\n",
    "        self.dropout1 = tf.keras.layers.Dropout(rate)\n",
    "        self.dropout2 = tf.keras.layers.Dropout(rate)\n",
    "        \n",
    "    def call(self, x):        \n",
    "        seq_len = tf.shape(x)[1]\n",
    "        x += self.pos_encoding[:, :seq_len, :]\n",
    "        \n",
    "        attn, attn_weights_block = self.mha1(x, x, x, None)  # (batch_size, target_seq_len, d_model)\n",
    "        attn = self.dropout1(attn)\n",
    "        out = self.layernorm1(attn + x)\n",
    "        \n",
    "        ffn_output = self.ffn(out)  # (batch_size, target_seq_len, d_model)\n",
    "        ffn_output = self.dropout2(ffn_output)\n",
    "        out = self.layernorm2(ffn_output + out)\n",
    "        \n",
    "        return out"
   ]
  },
  {
   "cell_type": "code",
   "execution_count": 35,
   "metadata": {
    "executionInfo": {
     "elapsed": 18660,
     "status": "ok",
     "timestamp": 1610935028703,
     "user": {
      "displayName": "정은일",
      "photoUrl": "",
      "userId": "02252830369813169346"
     },
     "user_tz": -540
    },
    "id": "-bPGnNgBFxIB"
   },
   "outputs": [],
   "source": [
    "class Encoder(tf.keras.layers.Layer):\n",
    "    def __init__(self, num_layers, d_model, num_heads, dff, rate):\n",
    "        super(Encoder, self).__init__()\n",
    "        \n",
    "        self.num_layers = num_layers\n",
    "        self.feature_extract_model = self.cnn_base(base_channel)\n",
    "        self.fc = tf.keras.layers.Dense(d_model, activation='relu')\n",
    "        #self.pos_encoding = positional_encoding(114, d_model)\n",
    "        self.dropout = tf.keras.layers.Dropout(rate)\n",
    "        \n",
    "        #self.enc_layers = [EncoderLayer(d_model, num_heads, dff, rate) for _ in range(self.num_layers)]\n",
    "\n",
    "    def call(self, x, training):\n",
    "        x = self.feature_extract_model(x)\n",
    "        x = tf.keras.layers.Reshape((-1, x.shape[3]))(x)\n",
    "        x = self.fc(x)\n",
    "        seq_len = tf.shape(x)[1]\n",
    "        #print(seq_len)\n",
    "        #x += self.pos_encoding[:, :seq_len, :]\n",
    "        x = self.dropout(x, training=training)\n",
    "        \n",
    "        #for i in range(self.num_layers):\n",
    "        #    x = self.enc_layers[i](x)\n",
    "        \n",
    "        x = tf.keras.layers.Reshape((1, -1))(x)\n",
    "        \n",
    "        return x  # (batch_size, input_seq_len, d_model)\n",
    "    \n",
    "    def cnn_base(self, base_channel=8):\n",
    "        input_layer = tf.keras.layers.Input(shape=(6, 600, 1))\n",
    "        \n",
    "        x = tf.keras.layers.Conv2D(base_channel*2, (1, 2), activation='relu', padding='same')(input_layer)\n",
    "        x = tf.keras.layers.BatchNormalization()(x)\n",
    "        x = tf.keras.layers.MaxPooling2D((1, 2), padding='same', strides=(1,2))(x)\n",
    "        \n",
    "        x = tf.keras.layers.Conv2D(base_channel*4, (1, 2), activation='relu', padding='same')(x)\n",
    "        x = tf.keras.layers.BatchNormalization()(x)\n",
    "        x = tf.keras.layers.MaxPooling2D((1, 2), padding='same', strides=(1,2))(x)\n",
    "\n",
    "        x = tf.keras.layers.Conv2D(base_channel*8, (1, 2), activation='relu', padding='same')(x)\n",
    "        x = tf.keras.layers.BatchNormalization()(x)\n",
    "        x = tf.keras.layers.MaxPooling2D((1, 2), padding='same', strides=(1,2))(x)\n",
    "\n",
    "        x = tf.keras.layers.Conv2D(base_channel*16, (1, 2), activation='relu', padding='same')(x)\n",
    "        x = tf.keras.layers.BatchNormalization()(x)\n",
    "        x = tf.keras.layers.MaxPooling2D((1, 2), padding='same', strides=(1,2))(x)\n",
    "\n",
    "        x = tf.keras.layers.Conv2D(base_channel*32, (1, 2), activation='relu', padding='same')(x)\n",
    "        x = tf.keras.layers.BatchNormalization()(x)\n",
    "        x = tf.keras.layers.MaxPooling2D((1, 2), padding='same', strides=(1,2))(x)\n",
    "\n",
    "        output_layer = tf.keras.layers.Conv2D(base_channel*64, (1, 2), activation='relu', padding='same')(x)\n",
    "        \n",
    "        return tf.keras.models.Model(input_layer, output_layer)"
   ]
  },
  {
   "cell_type": "code",
   "execution_count": 36,
   "metadata": {
    "colab": {
     "base_uri": "https://localhost:8080/"
    },
    "executionInfo": {
     "elapsed": 21704,
     "status": "ok",
     "timestamp": 1610935031753,
     "user": {
      "displayName": "정은일",
      "photoUrl": "",
      "userId": "02252830369813169346"
     },
     "user_tz": -540
    },
    "id": "FYGPKTSzK-bk",
    "outputId": "be444891-0a57-4d98-a613-20a4da71fb6b"
   },
   "outputs": [
    {
     "name": "stdout",
     "output_type": "stream",
     "text": [
      "(64, 1, 14592)\n"
     ]
    }
   ],
   "source": [
    "sample_encoder = Encoder(num_layers=num_layers, d_model=d_model, num_heads=num_heads, dff=dff, rate=dropout_rate)\n",
    "temp_input = next(iter(train_dataset))[0]\n",
    "\n",
    "sample_encoder_output = sample_encoder(temp_input, False)\n",
    "\n",
    "print(sample_encoder_output.shape)  # (batch_size, input_seq_len, d_model)"
   ]
  },
  {
   "cell_type": "markdown",
   "metadata": {},
   "source": [
    "## 디코더"
   ]
  },
  {
   "cell_type": "code",
   "execution_count": 37,
   "metadata": {
    "executionInfo": {
     "elapsed": 21698,
     "status": "ok",
     "timestamp": 1610935031754,
     "user": {
      "displayName": "정은일",
      "photoUrl": "",
      "userId": "02252830369813169346"
     },
     "user_tz": -540
    },
    "id": "Oe8Xej1QEAHi"
   },
   "outputs": [],
   "source": [
    "class DecoderLayer(tf.keras.layers.Layer):\n",
    "    def __init__(self, d_model, num_heads, dff, rate=0.1):\n",
    "        super(DecoderLayer, self).__init__()\n",
    "\n",
    "        self.mha1 = MultiHeadAttention(d_model, num_heads)\n",
    "        self.mha2 = MultiHeadAttention(d_model, num_heads)\n",
    "\n",
    "        self.ffn = point_wise_feed_forward_network(d_model, dff)\n",
    "\n",
    "        self.layernorm1 = tf.keras.layers.LayerNormalization(epsilon=1e-6)\n",
    "        self.layernorm2 = tf.keras.layers.LayerNormalization(epsilon=1e-6)\n",
    "        self.layernorm3 = tf.keras.layers.LayerNormalization(epsilon=1e-6)\n",
    "\n",
    "        self.dropout1 = tf.keras.layers.Dropout(rate)\n",
    "        self.dropout2 = tf.keras.layers.Dropout(rate)\n",
    "        self.dropout3 = tf.keras.layers.Dropout(rate)\n",
    "\n",
    "\n",
    "    def call(self, x, enc_output, training, look_ahead_mask, padding_mask):\n",
    "        # enc_output.shape == (batch_size, input_seq_len, d_model)\n",
    "\n",
    "        attn1, attn_weights_block1 = self.mha1(x, x, x, look_ahead_mask)  # (batch_size, target_seq_len, d_model)\n",
    "        attn1 = self.dropout1(attn1, training=training)\n",
    "        out1 = self.layernorm1(attn1 + x)\n",
    "\n",
    "        attn2, attn_weights_block2 = self.mha2(enc_output, enc_output, out1, padding_mask)  # (batch_size, target_seq_len, d_model)\n",
    "        attn2 = self.dropout2(attn2, training=training)\n",
    "        out2 = self.layernorm2(attn2 + out1)  # (batch_size, target_seq_len, d_model)\n",
    "        \n",
    "        ffn_output = self.ffn(out2)  # (batch_size, target_seq_len, d_model)\n",
    "        ffn_output = self.dropout3(ffn_output, training=training)\n",
    "        out3 = self.layernorm3(ffn_output + out2)  # (batch_size, target_seq_len, d_model)\n",
    "\n",
    "        return out3#, attn_weights_block1, attn_weights_block2"
   ]
  },
  {
   "cell_type": "code",
   "execution_count": 38,
   "metadata": {
    "executionInfo": {
     "elapsed": 21692,
     "status": "ok",
     "timestamp": 1610935031754,
     "user": {
      "displayName": "정은일",
      "photoUrl": "",
      "userId": "02252830369813169346"
     },
     "user_tz": -540
    },
    "id": "vblshjQ6EFPm"
   },
   "outputs": [],
   "source": [
    "class Decoder(tf.keras.layers.Layer):\n",
    "    def __init__(self, num_layers, d_model, num_heads, dff, target_size, maximum_position_encoding, rate=0.1):\n",
    "        super(Decoder, self).__init__()\n",
    "\n",
    "        self.d_model = d_model\n",
    "        self.num_layers = num_layers\n",
    "\n",
    "        self.embedding = tf.keras.layers.Embedding(target_size, d_model)\n",
    "        self.pos_encoding = positional_encoding(maximum_position_encoding, d_model)\n",
    "\n",
    "        self.dec_layers = [DecoderLayer(d_model, num_heads, dff, rate) \n",
    "                           for _ in range(num_layers)]\n",
    "        self.dropout = tf.keras.layers.Dropout(rate)\n",
    "\n",
    "    def call(self, x, enc_output, training, look_ahead_mask, padding_mask):\n",
    "        seq_len = tf.shape(x)[1]\n",
    "        attention_weights = {}\n",
    "\n",
    "        x = self.embedding(x)  # (batch_size, target_seq_len, d_model)\n",
    "        x *= tf.math.sqrt(tf.cast(self.d_model, tf.float32))\n",
    "        x += self.pos_encoding[:, :seq_len, :]\n",
    "\n",
    "        x = self.dropout(x, training=training)\n",
    "\n",
    "        for i in range(self.num_layers):\n",
    "            x = self.dec_layers[i](x, enc_output, training, look_ahead_mask, padding_mask)\n",
    "\n",
    "            #attention_weights['decoder_layer{}_block1'.format(i+1)] = block1\n",
    "            #attention_weights['decoder_layer{}_block2'.format(i+1)] = block2\n",
    "\n",
    "        # x.shape == (batch_size, target_seq_len, d_model)\n",
    "        return x#, attention_weights"
   ]
  },
  {
   "cell_type": "code",
   "execution_count": 39,
   "metadata": {
    "colab": {
     "base_uri": "https://localhost:8080/"
    },
    "executionInfo": {
     "elapsed": 21686,
     "status": "ok",
     "timestamp": 1610935031754,
     "user": {
      "displayName": "정은일",
      "photoUrl": "",
      "userId": "02252830369813169346"
     },
     "user_tz": -540
    },
    "id": "U-kEKXLDEFMR",
    "outputId": "20ba8c45-0406-4aaf-df26-5b0e8b4ae51c"
   },
   "outputs": [
    {
     "data": {
      "text/plain": [
       "TensorShape([64, 2, 512])"
      ]
     },
     "execution_count": 39,
     "metadata": {},
     "output_type": "execute_result"
    }
   ],
   "source": [
    "sample_decoder = Decoder(num_layers=2, d_model=512, num_heads=8, \n",
    "                         dff=2048, target_size=target_size,\n",
    "                         maximum_position_encoding=500)\n",
    "temp_input = next(iter(train_dataset))[1]#tf.random.uniform((64, 26), dtype=tf.int64, minval=0, maxval=200)\n",
    "\n",
    "output = sample_decoder(temp_input, \n",
    "                        enc_output=sample_encoder_output, \n",
    "                        training=False,\n",
    "                        look_ahead_mask=None, \n",
    "                        padding_mask=None)\n",
    "\n",
    "output.shape#, attn['decoder_layer2_block2'].shape"
   ]
  },
  {
   "cell_type": "markdown",
   "metadata": {},
   "source": [
    "## 트랜스포머"
   ]
  },
  {
   "cell_type": "code",
   "execution_count": 40,
   "metadata": {
    "executionInfo": {
     "elapsed": 21680,
     "status": "ok",
     "timestamp": 1610935031755,
     "user": {
      "displayName": "정은일",
      "photoUrl": "",
      "userId": "02252830369813169346"
     },
     "user_tz": -540
    },
    "id": "Yuz0VcThEFKT"
   },
   "outputs": [],
   "source": [
    "class Transformer(tf.keras.Model):\n",
    "    def __init__(self, num_layers, d_model, num_heads, dff, target_size, pe_target, rate=0.1):\n",
    "        super(Transformer, self).__init__()\n",
    "\n",
    "        self.encoder = Encoder(num_layers, d_model, num_heads, dff, dropout_rate)\n",
    "\n",
    "        self.decoder = Decoder(num_layers, d_model, num_heads, dff, target_size, pe_target, rate)\n",
    "\n",
    "        self.final_layer = tf.keras.layers.Dense(target_size, activation='softmax')\n",
    "\n",
    "    def call(self, inp, tar, training, look_ahead_mask, dec_padding_mask):\n",
    "\n",
    "        enc_output = self.encoder(inp, training)  # (batch_size, inp_seq_len, d_model)\n",
    "\n",
    "        # dec_output.shape == (batch_size, tar_seq_len, d_model)\n",
    "        dec_output = self.decoder(tar, enc_output, training, look_ahead_mask, dec_padding_mask)\n",
    "\n",
    "        final_output = self.final_layer(dec_output)  # (batch_size, tar_seq_len, target_size)\n",
    "        \n",
    "        return final_output#, attention_weights"
   ]
  },
  {
   "cell_type": "markdown",
   "metadata": {},
   "source": [
    "## 옵티마이저 및 loss 함수 정의"
   ]
  },
  {
   "cell_type": "code",
   "execution_count": 41,
   "metadata": {
    "executionInfo": {
     "elapsed": 21671,
     "status": "ok",
     "timestamp": 1610935031755,
     "user": {
      "displayName": "정은일",
      "photoUrl": "",
      "userId": "02252830369813169346"
     },
     "user_tz": -540
    },
    "id": "drEsTvcZEFE5"
   },
   "outputs": [],
   "source": [
    "optimizer = tf.keras.optimizers.Adam(learning_rate, beta_1=0.9, beta_2=0.98, epsilon=1e-9)"
   ]
  },
  {
   "cell_type": "code",
   "execution_count": 42,
   "metadata": {},
   "outputs": [],
   "source": [
    "def loss_object(y, y_hat):\n",
    "    y = tf.one_hot(tf.cast(y, tf.int32), target_size)\n",
    "    return tf.keras.losses.categorical_crossentropy(y, y_hat, from_logits=False, label_smoothing = 0.0)"
   ]
  },
  {
   "cell_type": "code",
   "execution_count": 44,
   "metadata": {
    "executionInfo": {
     "elapsed": 21663,
     "status": "ok",
     "timestamp": 1610935031756,
     "user": {
      "displayName": "정은일",
      "photoUrl": "",
      "userId": "02252830369813169346"
     },
     "user_tz": -540
    },
    "id": "ZOHqka2oEFAB"
   },
   "outputs": [],
   "source": [
    "def loss_function(real, pred):\n",
    "    mask = tf.math.logical_not(tf.math.equal(real, -1))\n",
    "    loss_ = loss_object(real, pred)\n",
    "    mask = tf.cast(mask, dtype=loss_.dtype)\n",
    "    loss_ *= mask\n",
    "\n",
    "    return tf.reduce_sum(loss_)/tf.reduce_sum(mask)\n",
    "\n",
    "\n",
    "def accuracy_function(real, pred):\n",
    "    real = tf.dtypes.cast(real, tf.int64)\n",
    "    accuracies = tf.equal(real, tf.argmax(pred, axis=2))\n",
    "    mask = tf.math.logical_not(tf.math.equal(real, -1))\n",
    "    accuracies = tf.math.logical_and(mask, accuracies)\n",
    "\n",
    "    accuracies = tf.cast(accuracies, dtype=tf.float32)\n",
    "    mask = tf.cast(mask, dtype=tf.float32)\n",
    "    return tf.reduce_sum(accuracies)/tf.reduce_sum(mask)"
   ]
  },
  {
   "cell_type": "code",
   "execution_count": 45,
   "metadata": {
    "executionInfo": {
     "elapsed": 21983,
     "status": "ok",
     "timestamp": 1610935032080,
     "user": {
      "displayName": "정은일",
      "photoUrl": "",
      "userId": "02252830369813169346"
     },
     "user_tz": -540
    },
    "id": "tYn8S46yRKxG"
   },
   "outputs": [],
   "source": [
    "transformer = Transformer(num_layers, d_model, num_heads, dff,\n",
    "                          target_size, \n",
    "                          pe_target=target_size,\n",
    "                          rate=dropout_rate)"
   ]
  },
  {
   "cell_type": "code",
   "execution_count": 46,
   "metadata": {
    "executionInfo": {
     "elapsed": 21978,
     "status": "ok",
     "timestamp": 1610935032080,
     "user": {
      "displayName": "정은일",
      "photoUrl": "",
      "userId": "02252830369813169346"
     },
     "user_tz": -540
    },
    "id": "4rkB3O3eFIOw"
   },
   "outputs": [],
   "source": [
    "def create_masks(tar):\n",
    "    look_ahead_mask = create_look_ahead_mask(tf.shape(tar)[1])\n",
    "    dec_target_padding_mask = create_padding_mask(tar)\n",
    "    combined_mask = tf.maximum(dec_target_padding_mask, look_ahead_mask)\n",
    "\n",
    "    return combined_mask"
   ]
  },
  {
   "cell_type": "code",
   "execution_count": 47,
   "metadata": {
    "colab": {
     "base_uri": "https://localhost:8080/"
    },
    "executionInfo": {
     "elapsed": 21974,
     "status": "ok",
     "timestamp": 1610935032080,
     "user": {
      "displayName": "정은일",
      "photoUrl": "",
      "userId": "02252830369813169346"
     },
     "user_tz": -540
    },
    "id": "ydLCfta_Esnq",
    "outputId": "0c11e148-6dd0-4609-d8ab-36f48910f13a"
   },
   "outputs": [
    {
     "data": {
      "text/plain": [
       "TensorShape([64, 1, 61])"
      ]
     },
     "execution_count": 47,
     "metadata": {},
     "output_type": "execute_result"
    }
   ],
   "source": [
    "inp = next(iter(train_dataset))[0]\n",
    "tar_inp = next(iter(train_dataset))[1][:,:-1]\n",
    "combined_mask = create_masks(tar_inp)\n",
    "transformer(inp, tar_inp, True, combined_mask, dec_padding_mask=None).shape"
   ]
  },
  {
   "cell_type": "markdown",
   "metadata": {},
   "source": [
    "## 체크포인트 설정\n",
    "\n",
    "초기화 된 체크포인트를 저장"
   ]
  },
  {
   "cell_type": "code",
   "execution_count": 48,
   "metadata": {
    "executionInfo": {
     "elapsed": 22351,
     "status": "ok",
     "timestamp": 1610935032464,
     "user": {
      "displayName": "정은일",
      "photoUrl": "",
      "userId": "02252830369813169346"
     },
     "user_tz": -540
    },
    "id": "ZVaxPT9_FKlc"
   },
   "outputs": [],
   "source": [
    "!rm -r ./checkpoints"
   ]
  },
  {
   "cell_type": "code",
   "execution_count": 49,
   "metadata": {
    "colab": {
     "base_uri": "https://localhost:8080/",
     "height": 35
    },
    "executionInfo": {
     "elapsed": 22346,
     "status": "ok",
     "timestamp": 1610935032464,
     "user": {
      "displayName": "정은일",
      "photoUrl": "",
      "userId": "02252830369813169346"
     },
     "user_tz": -540
    },
    "id": "IHnmT0LMFNBj",
    "outputId": "c90c8768-f577-42f2-d8af-d284ac1758c7"
   },
   "outputs": [
    {
     "data": {
      "text/plain": [
       "'./checkpoints/init/ckpt-1'"
      ]
     },
     "execution_count": 49,
     "metadata": {},
     "output_type": "execute_result"
    }
   ],
   "source": [
    "init_path = path+\"/checkpoints/init\"\n",
    "\n",
    "init_ckpt = tf.train.Checkpoint(transformer=transformer, optimizer=optimizer)\n",
    "\n",
    "init_ckpt_manager = tf.train.CheckpointManager(init_ckpt, init_path, max_to_keep=5)\n",
    "\n",
    "init_ckpt_manager.save()"
   ]
  },
  {
   "cell_type": "markdown",
   "metadata": {},
   "source": [
    "## 학습 함수 정의"
   ]
  },
  {
   "cell_type": "code",
   "execution_count": 50,
   "metadata": {
    "executionInfo": {
     "elapsed": 22340,
     "status": "ok",
     "timestamp": 1610935032465,
     "user": {
      "displayName": "정은일",
      "photoUrl": "",
      "userId": "02252830369813169346"
     },
     "user_tz": -540
    },
    "id": "hY0T-nZuFOKY"
   },
   "outputs": [],
   "source": [
    "@tf.function()\n",
    "def train_step(inp, tar, training=True):\n",
    "    tar_inp = tar[:, :-1]\n",
    "    tar_real = tar[:, 1:]\n",
    "    \n",
    "    with tf.GradientTape() as tape:\n",
    "        predictions = transformer(inp, tar_inp,\n",
    "                                  True,\n",
    "                                  None,\n",
    "                                  None)\n",
    "        loss = loss_function(tar_real, predictions)\n",
    "    if training==True:\n",
    "        gradients = tape.gradient(loss, transformer.trainable_variables)\n",
    "        optimizer.apply_gradients(zip(gradients, transformer.trainable_variables))\n",
    "        train_accuracy(accuracy_function(tar_real, predictions))\n",
    "    else:\n",
    "        val_accuracy(accuracy_function(tar_real, predictions))\n",
    "  \n",
    "    return loss, predictions"
   ]
  },
  {
   "cell_type": "markdown",
   "metadata": {},
   "source": [
    "## 평가 함수 정의"
   ]
  },
  {
   "cell_type": "code",
   "execution_count": null,
   "metadata": {},
   "outputs": [],
   "source": [
    "train_accuracy = tf.keras.metrics.Mean(name='train_accuracy')\n",
    "val_accuracy = tf.keras.metrics.Mean(name='val_accuracy')\n",
    "gc.collect()"
   ]
  },
  {
   "cell_type": "markdown",
   "metadata": {},
   "source": [
    "# 학습\n",
    "\n",
    "10fold 교차검증\n",
    "\n",
    "각 fold 학습 전 초기화 checkpoint 복원"
   ]
  },
  {
   "cell_type": "code",
   "execution_count": 52,
   "metadata": {
    "colab": {
     "base_uri": "https://localhost:8080/",
     "height": 1000
    },
    "id": "NOMCplBv7hqV",
    "outputId": "57a3d4d3-ff4f-4aaf-ed30-f75f96d258c2"
   },
   "outputs": [
    {
     "name": "stderr",
     "output_type": "stream",
     "text": [
      "0it [00:00, ?it/s]"
     ]
    },
    {
     "name": "stdout",
     "output_type": "stream",
     "text": [
      "Init checkpoint restored!!\n"
     ]
    },
    {
     "name": "stderr",
     "output_type": "stream",
     "text": [
      "196it [00:09, 21.55it/s, Epoch=1, k=0, Loss=2.115212, Total Loss=2.246676, Accuracy=0.538]\n",
      "10it [00:00, 10.16it/s, Epoch=1, k=0, Val Loss=1.726462, Val Total_Loss=1.751871, Val Accuracy=0.594]\n",
      "196it [00:06, 31.75it/s, Epoch=2, k=0, Loss=1.426604, Total Loss=1.430660, Accuracy=0.658]\n",
      "10it [00:00, 36.17it/s, Epoch=2, k=0, Val Loss=1.439654, Val Total_Loss=1.376486, Val Accuracy=0.677]\n",
      "196it [00:06, 31.24it/s, Epoch=3, k=0, Loss=1.432707, Total Loss=1.139765, Accuracy=0.718]\n",
      "10it [00:00, 34.44it/s, Epoch=3, k=0, Val Loss=1.390454, Val Total_Loss=1.206229, Val Accuracy=0.701]\n",
      "196it [00:06, 31.83it/s, Epoch=4, k=0, Loss=1.078606, Total Loss=0.964550, Accuracy=0.754]\n",
      "10it [00:00, 35.55it/s, Epoch=4, k=0, Val Loss=1.206398, Val Total_Loss=1.050820, Val Accuracy=0.726]\n",
      "196it [00:06, 31.05it/s, Epoch=5, k=0, Loss=0.936368, Total Loss=0.823648, Accuracy=0.791]\n",
      "10it [00:00, 34.69it/s, Epoch=5, k=0, Val Loss=1.157393, Val Total_Loss=0.962742, Val Accuracy=0.759]\n",
      "196it [00:06, 31.85it/s, Epoch=6, k=0, Loss=0.943477, Total Loss=0.724238, Accuracy=0.813]\n",
      "10it [00:00, 35.09it/s, Epoch=6, k=0, Val Loss=1.148119, Val Total_Loss=0.905046, Val Accuracy=0.761]\n",
      "196it [00:06, 30.87it/s, Epoch=7, k=0, Loss=0.559512, Total Loss=0.637845, Accuracy=0.837]\n",
      "10it [00:00, 36.26it/s, Epoch=7, k=0, Val Loss=0.913914, Val Total_Loss=0.813251, Val Accuracy=0.787]\n",
      "196it [00:06, 30.97it/s, Epoch=8, k=0, Loss=0.609306, Total Loss=0.557647, Accuracy=0.857]\n",
      "10it [00:00, 34.83it/s, Epoch=8, k=0, Val Loss=0.858293, Val Total_Loss=0.785759, Val Accuracy=0.794]\n",
      "196it [00:06, 31.23it/s, Epoch=9, k=0, Loss=0.523637, Total Loss=0.502827, Accuracy=0.872]\n",
      "10it [00:00, 36.59it/s, Epoch=9, k=0, Val Loss=0.895073, Val Total_Loss=0.759894, Val Accuracy=0.79]\n",
      "196it [00:06, 30.53it/s, Epoch=10, k=0, Loss=0.496501, Total Loss=0.449465, Accuracy=0.886]\n",
      "10it [00:00, 35.20it/s, Epoch=10, k=0, Val Loss=0.972568, Val Total_Loss=0.731760, Val Accuracy=0.795]\n",
      "196it [00:06, 30.84it/s, Epoch=11, k=0, Loss=0.253767, Total Loss=0.405126, Accuracy=0.896]\n",
      "10it [00:00, 36.95it/s, Epoch=11, k=0, Val Loss=0.850643, Val Total_Loss=0.725459, Val Accuracy=0.783]\n",
      "196it [00:06, 31.42it/s, Epoch=12, k=0, Loss=0.365793, Total Loss=0.359671, Accuracy=0.907]\n",
      "10it [00:00, 35.30it/s, Epoch=12, k=0, Val Loss=1.036724, Val Total_Loss=0.705964, Val Accuracy=0.804]\n",
      "196it [00:06, 31.57it/s, Epoch=13, k=0, Loss=0.320836, Total Loss=0.329274, Accuracy=0.914]\n",
      "10it [00:00, 35.29it/s, Epoch=13, k=0, Val Loss=0.936312, Val Total_Loss=0.701701, Val Accuracy=0.795]\n",
      "196it [00:06, 31.13it/s, Epoch=14, k=0, Loss=0.426886, Total Loss=0.299530, Accuracy=0.926]\n",
      "10it [00:00, 35.25it/s, Epoch=14, k=0, Val Loss=0.906482, Val Total_Loss=0.704823, Val Accuracy=0.81]\n",
      "196it [00:06, 31.47it/s, Epoch=15, k=0, Loss=0.368773, Total Loss=0.268348, Accuracy=0.932]\n",
      "10it [00:00, 34.87it/s, Epoch=15, k=0, Val Loss=0.962830, Val Total_Loss=0.696517, Val Accuracy=0.804]\n",
      "196it [00:06, 31.17it/s, Epoch=16, k=0, Loss=0.249164, Total Loss=0.246667, Accuracy=0.939]\n",
      "10it [00:00, 35.52it/s, Epoch=16, k=0, Val Loss=0.915796, Val Total_Loss=0.681449, Val Accuracy=0.829]\n",
      "196it [00:06, 31.85it/s, Epoch=17, k=0, Loss=0.204563, Total Loss=0.219276, Accuracy=0.947]\n",
      "10it [00:00, 34.94it/s, Epoch=17, k=0, Val Loss=0.900149, Val Total_Loss=0.723056, Val Accuracy=0.805]\n",
      "196it [00:06, 31.51it/s, Epoch=18, k=0, Loss=0.153234, Total Loss=0.199506, Accuracy=0.949]\n",
      "10it [00:00, 34.44it/s, Epoch=18, k=0, Val Loss=0.927323, Val Total_Loss=0.655963, Val Accuracy=0.823]\n",
      "196it [00:05, 34.50it/s, Epoch=19, k=0, Loss=0.138974, Total Loss=0.182499, Accuracy=0.956]\n",
      "10it [00:00, 51.51it/s, Epoch=19, k=0, Val Loss=1.062857, Val Total_Loss=0.708639, Val Accuracy=0.813]\n",
      "196it [00:05, 34.75it/s, Epoch=20, k=0, Loss=0.071272, Total Loss=0.159940, Accuracy=0.963]\n",
      "10it [00:00, 53.61it/s, Epoch=20, k=0, Val Loss=0.991390, Val Total_Loss=0.688590, Val Accuracy=0.824]\n",
      "196it [00:05, 35.56it/s, Epoch=21, k=0, Loss=0.192337, Total Loss=0.144987, Accuracy=0.966]\n",
      "10it [00:00, 48.83it/s, Epoch=21, k=0, Val Loss=0.883593, Val Total_Loss=0.696503, Val Accuracy=0.824]\n",
      "196it [00:05, 35.13it/s, Epoch=22, k=0, Loss=0.125455, Total Loss=0.134008, Accuracy=0.97] \n",
      "10it [00:00, 55.63it/s, Epoch=22, k=0, Val Loss=0.969032, Val Total_Loss=0.687654, Val Accuracy=0.818]\n",
      "196it [00:05, 35.15it/s, Epoch=23, k=0, Loss=0.083896, Total Loss=0.120257, Accuracy=0.974]\n",
      "10it [00:00, 52.38it/s, Epoch=23, k=0, Val Loss=1.076926, Val Total_Loss=0.693144, Val Accuracy=0.816]\n",
      "196it [00:05, 34.84it/s, Epoch=24, k=0, Loss=0.070305, Total Loss=0.103579, Accuracy=0.98] \n",
      "10it [00:00, 51.41it/s, Epoch=24, k=0, Val Loss=1.151548, Val Total_Loss=0.752868, Val Accuracy=0.818]\n",
      "196it [00:05, 34.28it/s, Epoch=25, k=0, Loss=0.025287, Total Loss=0.099887, Accuracy=0.978]\n",
      "10it [00:00, 35.53it/s, Epoch=25, k=0, Val Loss=1.090875, Val Total_Loss=0.790081, Val Accuracy=0.799]\n",
      "196it [00:06, 31.10it/s, Epoch=26, k=0, Loss=0.047943, Total Loss=0.082906, Accuracy=0.983]\n",
      "10it [00:00, 34.85it/s, Epoch=26, k=0, Val Loss=1.183020, Val Total_Loss=0.731006, Val Accuracy=0.831]\n",
      "196it [00:06, 30.50it/s, Epoch=27, k=0, Loss=0.038864, Total Loss=0.077852, Accuracy=0.986]\n",
      "10it [00:00, 35.55it/s, Epoch=27, k=0, Val Loss=1.120544, Val Total_Loss=0.763336, Val Accuracy=0.824]\n"
     ]
    },
    {
     "data": {
      "image/png": "[encoded data removed]",
      "text/plain": [
       "<Figure size 432x288 with 1 Axes>"
      ]
     },
     "metadata": {
      "needs_background": "light"
     },
     "output_type": "display_data"
    },
    {
     "name": "stderr",
     "output_type": "stream",
     "text": [
      "0it [00:00, ?it/s, Epoch=1, k=1, Loss=4.637722, Total Loss=4.637722, Accuracy=0.0312]"
     ]
    },
    {
     "name": "stdout",
     "output_type": "stream",
     "text": [
      "Init checkpoint restored!!\n"
     ]
    },
    {
     "name": "stderr",
     "output_type": "stream",
     "text": [
      "196it [00:06, 31.92it/s, Epoch=1, k=1, Loss=0.644441, Total Loss=2.299504, Accuracy=0.535]\n",
      "10it [00:00, 35.70it/s, Epoch=1, k=1, Val Loss=1.837503, Val Total_Loss=1.702720, Val Accuracy=0.609]\n",
      "196it [00:06, 30.74it/s, Epoch=2, k=1, Loss=0.533386, Total Loss=1.430574, Accuracy=0.66] \n",
      "10it [00:00, 34.42it/s, Epoch=2, k=1, Val Loss=1.453387, Val Total_Loss=1.311229, Val Accuracy=0.656]\n",
      "196it [00:06, 31.12it/s, Epoch=3, k=1, Loss=0.498778, Total Loss=1.140933, Accuracy=0.713]\n",
      "10it [00:00, 35.21it/s, Epoch=3, k=1, Val Loss=1.124260, Val Total_Loss=1.121335, Val Accuracy=0.712]\n",
      "196it [00:06, 31.07it/s, Epoch=4, k=1, Loss=0.278927, Total Loss=0.965387, Accuracy=0.755]\n",
      "10it [00:00, 35.52it/s, Epoch=4, k=1, Val Loss=1.072010, Val Total_Loss=1.041883, Val Accuracy=0.738]\n",
      "196it [00:06, 31.71it/s, Epoch=5, k=1, Loss=0.325582, Total Loss=0.828787, Accuracy=0.786]\n",
      "10it [00:00, 35.07it/s, Epoch=5, k=1, Val Loss=0.925019, Val Total_Loss=0.920871, Val Accuracy=0.75]\n",
      "196it [00:06, 31.45it/s, Epoch=6, k=1, Loss=0.250093, Total Loss=0.722706, Accuracy=0.813]\n",
      "10it [00:00, 34.93it/s, Epoch=6, k=1, Val Loss=0.886030, Val Total_Loss=0.871024, Val Accuracy=0.772]\n",
      "196it [00:06, 31.94it/s, Epoch=7, k=1, Loss=0.179662, Total Loss=0.634144, Accuracy=0.833]\n",
      "10it [00:00, 35.18it/s, Epoch=7, k=1, Val Loss=0.757073, Val Total_Loss=0.823413, Val Accuracy=0.779]\n",
      "196it [00:06, 31.15it/s, Epoch=8, k=1, Loss=0.161482, Total Loss=0.556965, Accuracy=0.858]\n",
      "10it [00:00, 36.76it/s, Epoch=8, k=1, Val Loss=0.683433, Val Total_Loss=0.777133, Val Accuracy=0.792]\n",
      "196it [00:06, 31.57it/s, Epoch=9, k=1, Loss=0.196873, Total Loss=0.503933, Accuracy=0.868]\n",
      "10it [00:00, 36.63it/s, Epoch=9, k=1, Val Loss=0.601049, Val Total_Loss=0.716079, Val Accuracy=0.799]\n",
      "196it [00:06, 31.43it/s, Epoch=10, k=1, Loss=0.122573, Total Loss=0.448509, Accuracy=0.883]\n",
      "10it [00:00, 34.81it/s, Epoch=10, k=1, Val Loss=0.530434, Val Total_Loss=0.722928, Val Accuracy=0.807]\n",
      "196it [00:06, 31.24it/s, Epoch=11, k=1, Loss=0.146450, Total Loss=0.403696, Accuracy=0.896]\n",
      "10it [00:00, 35.50it/s, Epoch=11, k=1, Val Loss=0.628907, Val Total_Loss=0.695369, Val Accuracy=0.812]\n",
      "196it [00:06, 30.88it/s, Epoch=12, k=1, Loss=0.081419, Total Loss=0.366490, Accuracy=0.904]\n",
      "10it [00:00, 34.24it/s, Epoch=12, k=1, Val Loss=0.547849, Val Total_Loss=0.664266, Val Accuracy=0.813]\n",
      "196it [00:06, 31.00it/s, Epoch=13, k=1, Loss=0.077075, Total Loss=0.338446, Accuracy=0.912]\n",
      "10it [00:00, 34.75it/s, Epoch=13, k=1, Val Loss=0.487467, Val Total_Loss=0.649800, Val Accuracy=0.812]\n",
      "196it [00:06, 31.35it/s, Epoch=14, k=1, Loss=0.058831, Total Loss=0.305854, Accuracy=0.92] \n",
      "10it [00:00, 33.97it/s, Epoch=14, k=1, Val Loss=0.655091, Val Total_Loss=0.684742, Val Accuracy=0.797]\n",
      "196it [00:06, 31.26it/s, Epoch=15, k=1, Loss=0.054073, Total Loss=0.281721, Accuracy=0.927]\n",
      "10it [00:00, 34.37it/s, Epoch=15, k=1, Val Loss=0.511173, Val Total_Loss=0.633443, Val Accuracy=0.825]\n",
      "196it [00:06, 30.83it/s, Epoch=16, k=1, Loss=0.059530, Total Loss=0.249530, Accuracy=0.937]\n",
      "10it [00:00, 36.92it/s, Epoch=16, k=1, Val Loss=0.481127, Val Total_Loss=0.651830, Val Accuracy=0.819]\n",
      "196it [00:06, 31.09it/s, Epoch=17, k=1, Loss=0.097057, Total Loss=0.227832, Accuracy=0.943]\n",
      "10it [00:00, 34.63it/s, Epoch=17, k=1, Val Loss=0.507781, Val Total_Loss=0.639840, Val Accuracy=0.834]\n",
      "196it [00:06, 31.44it/s, Epoch=18, k=1, Loss=0.040324, Total Loss=0.207904, Accuracy=0.947]\n",
      "10it [00:00, 36.23it/s, Epoch=18, k=1, Val Loss=0.501246, Val Total_Loss=0.676435, Val Accuracy=0.824]\n",
      "196it [00:06, 31.05it/s, Epoch=19, k=1, Loss=0.082962, Total Loss=0.189644, Accuracy=0.951]\n",
      "10it [00:00, 34.37it/s, Epoch=19, k=1, Val Loss=0.572765, Val Total_Loss=0.597648, Val Accuracy=0.829]\n",
      "196it [00:06, 31.32it/s, Epoch=20, k=1, Loss=0.041094, Total Loss=0.172580, Accuracy=0.958]\n",
      "10it [00:00, 36.16it/s, Epoch=20, k=1, Val Loss=0.533742, Val Total_Loss=0.622222, Val Accuracy=0.834]\n",
      "196it [00:06, 31.08it/s, Epoch=21, k=1, Loss=0.025410, Total Loss=0.157919, Accuracy=0.962]\n",
      "10it [00:00, 34.90it/s, Epoch=21, k=1, Val Loss=0.519703, Val Total_Loss=0.621436, Val Accuracy=0.826]\n",
      "196it [00:06, 30.96it/s, Epoch=22, k=1, Loss=0.107398, Total Loss=0.145690, Accuracy=0.962]\n",
      "10it [00:00, 35.81it/s, Epoch=22, k=1, Val Loss=0.479598, Val Total_Loss=0.605520, Val Accuracy=0.836]\n",
      "196it [00:06, 31.67it/s, Epoch=23, k=1, Loss=0.017455, Total Loss=0.130012, Accuracy=0.97] \n",
      "10it [00:00, 35.36it/s, Epoch=23, k=1, Val Loss=0.427277, Val Total_Loss=0.605626, Val Accuracy=0.839]\n",
      "196it [00:06, 30.99it/s, Epoch=24, k=1, Loss=0.040499, Total Loss=0.121658, Accuracy=0.971]\n",
      "10it [00:00, 36.13it/s, Epoch=24, k=1, Val Loss=0.638985, Val Total_Loss=0.632846, Val Accuracy=0.819]\n",
      "196it [00:06, 31.09it/s, Epoch=25, k=1, Loss=0.063499, Total Loss=0.109234, Accuracy=0.977]\n",
      "10it [00:00, 35.09it/s, Epoch=25, k=1, Val Loss=0.529287, Val Total_Loss=0.625686, Val Accuracy=0.833]\n",
      "196it [00:06, 30.92it/s, Epoch=26, k=1, Loss=0.015013, Total Loss=0.100034, Accuracy=0.978]\n",
      "10it [00:00, 35.61it/s, Epoch=26, k=1, Val Loss=0.502920, Val Total_Loss=0.627042, Val Accuracy=0.843]\n",
      "196it [00:06, 31.46it/s, Epoch=27, k=1, Loss=0.021791, Total Loss=0.094366, Accuracy=0.979]\n",
      "10it [00:00, 35.24it/s, Epoch=27, k=1, Val Loss=0.576374, Val Total_Loss=0.594807, Val Accuracy=0.849]\n",
      "196it [00:06, 31.02it/s, Epoch=28, k=1, Loss=0.010945, Total Loss=0.078510, Accuracy=0.984]\n",
      "10it [00:00, 35.81it/s, Epoch=28, k=1, Val Loss=0.780667, Val Total_Loss=0.679116, Val Accuracy=0.833]\n",
      "196it [00:06, 31.59it/s, Epoch=29, k=1, Loss=0.009693, Total Loss=0.072747, Accuracy=0.985]\n",
      "10it [00:00, 35.15it/s, Epoch=29, k=1, Val Loss=0.707926, Val Total_Loss=0.665113, Val Accuracy=0.841]\n",
      "196it [00:06, 31.73it/s, Epoch=30, k=1, Loss=0.006328, Total Loss=0.067528, Accuracy=0.986]\n",
      "10it [00:00, 35.28it/s, Epoch=30, k=1, Val Loss=0.581562, Val Total_Loss=0.671922, Val Accuracy=0.827]\n",
      "196it [00:06, 31.04it/s, Epoch=31, k=1, Loss=0.007496, Total Loss=0.063518, Accuracy=0.987]\n",
      "10it [00:00, 35.10it/s, Epoch=31, k=1, Val Loss=0.449231, Val Total_Loss=0.680995, Val Accuracy=0.834]\n",
      "196it [00:06, 31.47it/s, Epoch=32, k=1, Loss=0.004836, Total Loss=0.056531, Accuracy=0.988]\n",
      "10it [00:00, 34.95it/s, Epoch=32, k=1, Val Loss=0.620494, Val Total_Loss=0.640109, Val Accuracy=0.841]\n",
      "196it [00:06, 31.56it/s, Epoch=33, k=1, Loss=0.007751, Total Loss=0.056185, Accuracy=0.989]\n",
      "10it [00:00, 35.23it/s, Epoch=33, k=1, Val Loss=0.556012, Val Total_Loss=0.654400, Val Accuracy=0.841]\n",
      "196it [00:06, 30.98it/s, Epoch=34, k=1, Loss=0.050073, Total Loss=0.045754, Accuracy=0.991]\n",
      "10it [00:00, 35.78it/s, Epoch=34, k=1, Val Loss=0.706626, Val Total_Loss=0.666012, Val Accuracy=0.835]\n",
      "196it [00:06, 31.37it/s, Epoch=35, k=1, Loss=0.003669, Total Loss=0.045194, Accuracy=0.992]\n",
      "10it [00:00, 34.64it/s, Epoch=35, k=1, Val Loss=0.586927, Val Total_Loss=0.660185, Val Accuracy=0.834]\n",
      "196it [00:06, 31.60it/s, Epoch=36, k=1, Loss=0.004592, Total Loss=0.042016, Accuracy=0.992]\n",
      "10it [00:00, 35.61it/s, Epoch=36, k=1, Val Loss=0.744090, Val Total_Loss=0.680402, Val Accuracy=0.83]\n"
     ]
    },
    {
     "data": {
      "image/png": "[encoded data removed]",
      "text/plain": [
       "<Figure size 432x288 with 1 Axes>"
      ]
     },
     "metadata": {
      "needs_background": "light"
     },
     "output_type": "display_data"
    },
    {
     "name": "stderr",
     "output_type": "stream",
     "text": [
      "0it [00:00, ?it/s, Epoch=1, k=2, Loss=4.671291, Total Loss=4.671291, Accuracy=0]"
     ]
    },
    {
     "name": "stdout",
     "output_type": "stream",
     "text": [
      "Init checkpoint restored!!\n"
     ]
    },
    {
     "name": "stderr",
     "output_type": "stream",
     "text": [
      "196it [00:06, 31.13it/s, Epoch=1, k=2, Loss=1.057811, Total Loss=2.246069, Accuracy=0.538]\n",
      "10it [00:00, 36.64it/s, Epoch=1, k=2, Val Loss=1.314685, Val Total_Loss=1.717830, Val Accuracy=0.597]\n",
      "196it [00:06, 31.46it/s, Epoch=2, k=2, Loss=0.804435, Total Loss=1.414047, Accuracy=0.661]\n",
      "10it [00:00, 35.66it/s, Epoch=2, k=2, Val Loss=0.904909, Val Total_Loss=1.370210, Val Accuracy=0.681]\n",
      "196it [00:06, 31.10it/s, Epoch=3, k=2, Loss=0.757489, Total Loss=1.140079, Accuracy=0.716]\n",
      "10it [00:00, 34.71it/s, Epoch=3, k=2, Val Loss=0.863774, Val Total_Loss=1.139674, Val Accuracy=0.707]\n",
      "196it [00:06, 31.60it/s, Epoch=4, k=2, Loss=0.533627, Total Loss=0.970599, Accuracy=0.755]\n",
      "10it [00:00, 34.16it/s, Epoch=4, k=2, Val Loss=0.666122, Val Total_Loss=1.020821, Val Accuracy=0.733]\n",
      "196it [00:06, 31.22it/s, Epoch=5, k=2, Loss=0.557961, Total Loss=0.839559, Accuracy=0.783]\n",
      "10it [00:00, 33.98it/s, Epoch=5, k=2, Val Loss=0.598747, Val Total_Loss=0.902081, Val Accuracy=0.761]\n",
      "196it [00:06, 30.86it/s, Epoch=6, k=2, Loss=0.560304, Total Loss=0.729257, Accuracy=0.812]\n",
      "10it [00:00, 34.13it/s, Epoch=6, k=2, Val Loss=0.471766, Val Total_Loss=0.867301, Val Accuracy=0.761]\n",
      "196it [00:06, 31.19it/s, Epoch=7, k=2, Loss=0.232179, Total Loss=0.642376, Accuracy=0.832]\n",
      "10it [00:00, 35.33it/s, Epoch=7, k=2, Val Loss=0.453562, Val Total_Loss=0.780546, Val Accuracy=0.785]\n",
      "196it [00:06, 31.08it/s, Epoch=8, k=2, Loss=0.343301, Total Loss=0.575559, Accuracy=0.852]\n",
      "10it [00:00, 34.99it/s, Epoch=8, k=2, Val Loss=0.348046, Val Total_Loss=0.734285, Val Accuracy=0.798]\n",
      "196it [00:06, 31.87it/s, Epoch=9, k=2, Loss=0.300422, Total Loss=0.514196, Accuracy=0.866]\n",
      "10it [00:00, 35.25it/s, Epoch=9, k=2, Val Loss=0.353660, Val Total_Loss=0.708911, Val Accuracy=0.811]\n",
      "196it [00:06, 31.51it/s, Epoch=10, k=2, Loss=0.245628, Total Loss=0.454081, Accuracy=0.883]\n",
      "10it [00:00, 36.42it/s, Epoch=10, k=2, Val Loss=0.394228, Val Total_Loss=0.695234, Val Accuracy=0.816]\n",
      "196it [00:06, 31.09it/s, Epoch=11, k=2, Loss=0.227170, Total Loss=0.412201, Accuracy=0.891]\n",
      "10it [00:00, 36.13it/s, Epoch=11, k=2, Val Loss=0.355277, Val Total_Loss=0.658296, Val Accuracy=0.821]\n",
      "196it [00:06, 31.11it/s, Epoch=12, k=2, Loss=0.245034, Total Loss=0.376227, Accuracy=0.903]\n",
      "10it [00:00, 34.85it/s, Epoch=12, k=2, Val Loss=0.284787, Val Total_Loss=0.649070, Val Accuracy=0.823]\n",
      "196it [00:06, 31.32it/s, Epoch=13, k=2, Loss=0.242000, Total Loss=0.339801, Accuracy=0.915]\n",
      "10it [00:00, 35.56it/s, Epoch=13, k=2, Val Loss=0.319335, Val Total_Loss=0.652808, Val Accuracy=0.823]\n",
      "196it [00:06, 31.33it/s, Epoch=14, k=2, Loss=0.138222, Total Loss=0.305324, Accuracy=0.921]\n",
      "10it [00:00, 35.72it/s, Epoch=14, k=2, Val Loss=0.310639, Val Total_Loss=0.638168, Val Accuracy=0.836]\n",
      "196it [00:06, 31.14it/s, Epoch=15, k=2, Loss=0.161668, Total Loss=0.281817, Accuracy=0.928]\n",
      "10it [00:00, 35.12it/s, Epoch=15, k=2, Val Loss=0.273192, Val Total_Loss=0.640398, Val Accuracy=0.839]\n",
      "196it [00:06, 31.00it/s, Epoch=16, k=2, Loss=0.116383, Total Loss=0.255386, Accuracy=0.935]\n",
      "10it [00:00, 36.40it/s, Epoch=16, k=2, Val Loss=0.328083, Val Total_Loss=0.646444, Val Accuracy=0.821]\n",
      "196it [00:06, 31.23it/s, Epoch=17, k=2, Loss=0.092289, Total Loss=0.230023, Accuracy=0.944]\n",
      "10it [00:00, 36.29it/s, Epoch=17, k=2, Val Loss=0.215515, Val Total_Loss=0.645492, Val Accuracy=0.83]\n",
      "196it [00:06, 30.84it/s, Epoch=18, k=2, Loss=0.094942, Total Loss=0.208864, Accuracy=0.947]\n",
      "10it [00:00, 35.65it/s, Epoch=18, k=2, Val Loss=0.342630, Val Total_Loss=0.636799, Val Accuracy=0.83]\n",
      "196it [00:06, 30.33it/s, Epoch=19, k=2, Loss=0.075772, Total Loss=0.192524, Accuracy=0.951]\n",
      "10it [00:00, 35.79it/s, Epoch=19, k=2, Val Loss=0.316127, Val Total_Loss=0.651139, Val Accuracy=0.829]\n",
      "196it [00:06, 31.29it/s, Epoch=20, k=2, Loss=0.065813, Total Loss=0.167106, Accuracy=0.96] \n",
      "10it [00:00, 35.39it/s, Epoch=20, k=2, Val Loss=0.262920, Val Total_Loss=0.643858, Val Accuracy=0.83]\n",
      "196it [00:06, 31.39it/s, Epoch=21, k=2, Loss=0.069750, Total Loss=0.156213, Accuracy=0.963]\n",
      "10it [00:00, 35.80it/s, Epoch=21, k=2, Val Loss=0.299720, Val Total_Loss=0.684028, Val Accuracy=0.829]\n",
      "196it [00:06, 31.56it/s, Epoch=22, k=2, Loss=0.053650, Total Loss=0.137645, Accuracy=0.967]\n",
      "10it [00:00, 34.67it/s, Epoch=22, k=2, Val Loss=0.285950, Val Total_Loss=0.640649, Val Accuracy=0.829]\n",
      "196it [00:06, 31.23it/s, Epoch=23, k=2, Loss=0.037550, Total Loss=0.127772, Accuracy=0.971]\n",
      "10it [00:00, 34.50it/s, Epoch=23, k=2, Val Loss=0.289688, Val Total_Loss=0.629200, Val Accuracy=0.837]\n",
      "196it [00:06, 31.75it/s, Epoch=24, k=2, Loss=0.032021, Total Loss=0.112920, Accuracy=0.976]\n",
      "10it [00:00, 35.93it/s, Epoch=24, k=2, Val Loss=0.335294, Val Total_Loss=0.631396, Val Accuracy=0.836]\n",
      "196it [00:06, 31.27it/s, Epoch=25, k=2, Loss=0.038013, Total Loss=0.105571, Accuracy=0.977]\n",
      "10it [00:00, 34.96it/s, Epoch=25, k=2, Val Loss=0.265492, Val Total_Loss=0.633636, Val Accuracy=0.838]\n",
      "196it [00:06, 31.47it/s, Epoch=26, k=2, Loss=0.052349, Total Loss=0.093495, Accuracy=0.981]\n",
      "10it [00:00, 35.93it/s, Epoch=26, k=2, Val Loss=0.338658, Val Total_Loss=0.702572, Val Accuracy=0.83]\n",
      "196it [00:06, 31.40it/s, Epoch=27, k=2, Loss=0.048292, Total Loss=0.087707, Accuracy=0.981]\n",
      "10it [00:00, 34.09it/s, Epoch=27, k=2, Val Loss=0.230986, Val Total_Loss=0.641520, Val Accuracy=0.844]\n",
      "196it [00:06, 31.37it/s, Epoch=28, k=2, Loss=0.015942, Total Loss=0.078228, Accuracy=0.984]\n",
      "10it [00:00, 35.14it/s, Epoch=28, k=2, Val Loss=0.364764, Val Total_Loss=0.674001, Val Accuracy=0.828]\n",
      "196it [00:06, 32.41it/s, Epoch=29, k=2, Loss=0.055176, Total Loss=0.070257, Accuracy=0.987]\n",
      "10it [00:00, 35.44it/s, Epoch=29, k=2, Val Loss=0.274311, Val Total_Loss=0.719895, Val Accuracy=0.837]\n",
      "196it [00:06, 31.54it/s, Epoch=30, k=2, Loss=0.041871, Total Loss=0.062443, Accuracy=0.989]\n",
      "10it [00:00, 34.43it/s, Epoch=30, k=2, Val Loss=0.243767, Val Total_Loss=0.720711, Val Accuracy=0.827]\n",
      "196it [00:06, 31.37it/s, Epoch=31, k=2, Loss=0.019092, Total Loss=0.059412, Accuracy=0.989]\n",
      "10it [00:00, 35.02it/s, Epoch=31, k=2, Val Loss=0.245333, Val Total_Loss=0.649822, Val Accuracy=0.845]\n",
      "196it [00:06, 31.15it/s, Epoch=32, k=2, Loss=0.011716, Total Loss=0.057329, Accuracy=0.988]\n",
      "10it [00:00, 35.32it/s, Epoch=32, k=2, Val Loss=0.277065, Val Total_Loss=0.696344, Val Accuracy=0.832]\n"
     ]
    },
    {
     "data": {
      "image/png": "[encoded data removed]",
      "text/plain": [
       "<Figure size 432x288 with 1 Axes>"
      ]
     },
     "metadata": {
      "needs_background": "light"
     },
     "output_type": "display_data"
    },
    {
     "name": "stderr",
     "output_type": "stream",
     "text": [
      "0it [00:00, ?it/s, Epoch=1, k=3, Loss=4.819783, Total Loss=4.819783, Accuracy=0.0156]"
     ]
    },
    {
     "name": "stdout",
     "output_type": "stream",
     "text": [
      "Init checkpoint restored!!\n"
     ]
    },
    {
     "name": "stderr",
     "output_type": "stream",
     "text": [
      "196it [00:06, 31.02it/s, Epoch=1, k=3, Loss=1.948639, Total Loss=2.241064, Accuracy=0.537]\n",
      "10it [00:00, 35.65it/s, Epoch=1, k=3, Val Loss=1.615447, Val Total_Loss=1.660377, Val Accuracy=0.609]\n",
      "196it [00:06, 31.32it/s, Epoch=2, k=3, Loss=1.397542, Total Loss=1.410805, Accuracy=0.659]\n",
      "10it [00:00, 34.50it/s, Epoch=2, k=3, Val Loss=1.173093, Val Total_Loss=1.352516, Val Accuracy=0.665]\n",
      "196it [00:06, 31.36it/s, Epoch=3, k=3, Loss=1.054423, Total Loss=1.130174, Accuracy=0.717]\n",
      "10it [00:00, 34.40it/s, Epoch=3, k=3, Val Loss=0.922910, Val Total_Loss=1.173321, Val Accuracy=0.718]\n",
      "196it [00:06, 31.30it/s, Epoch=4, k=3, Loss=0.977842, Total Loss=0.948809, Accuracy=0.757]\n",
      "10it [00:00, 34.97it/s, Epoch=4, k=3, Val Loss=0.899780, Val Total_Loss=1.051738, Val Accuracy=0.732]\n",
      "196it [00:06, 31.18it/s, Epoch=5, k=3, Loss=0.685495, Total Loss=0.807250, Accuracy=0.791]\n",
      "10it [00:00, 35.56it/s, Epoch=5, k=3, Val Loss=0.794605, Val Total_Loss=0.964069, Val Accuracy=0.747]\n",
      "196it [00:06, 31.57it/s, Epoch=6, k=3, Loss=0.740410, Total Loss=0.699317, Accuracy=0.822]\n",
      "10it [00:00, 35.14it/s, Epoch=6, k=3, Val Loss=0.679527, Val Total_Loss=0.927453, Val Accuracy=0.744]\n",
      "196it [00:06, 30.99it/s, Epoch=7, k=3, Loss=0.553712, Total Loss=0.618210, Accuracy=0.84] \n",
      "10it [00:00, 36.02it/s, Epoch=7, k=3, Val Loss=0.698976, Val Total_Loss=0.875120, Val Accuracy=0.759]\n",
      "196it [00:06, 31.19it/s, Epoch=8, k=3, Loss=0.501534, Total Loss=0.545360, Accuracy=0.861]\n",
      "10it [00:00, 35.58it/s, Epoch=8, k=3, Val Loss=0.591487, Val Total_Loss=0.847036, Val Accuracy=0.782]\n",
      "196it [00:06, 31.43it/s, Epoch=9, k=3, Loss=0.438364, Total Loss=0.484831, Accuracy=0.876]\n",
      "10it [00:00, 35.74it/s, Epoch=9, k=3, Val Loss=0.514899, Val Total_Loss=0.776954, Val Accuracy=0.802]\n",
      "196it [00:06, 31.42it/s, Epoch=10, k=3, Loss=0.356448, Total Loss=0.429395, Accuracy=0.892]\n",
      "10it [00:00, 35.60it/s, Epoch=10, k=3, Val Loss=0.494081, Val Total_Loss=0.797841, Val Accuracy=0.784]\n",
      "196it [00:06, 31.59it/s, Epoch=11, k=3, Loss=0.335007, Total Loss=0.382097, Accuracy=0.905]\n",
      "10it [00:00, 33.88it/s, Epoch=11, k=3, Val Loss=0.544683, Val Total_Loss=0.776600, Val Accuracy=0.798]\n",
      "196it [00:06, 31.37it/s, Epoch=12, k=3, Loss=0.331897, Total Loss=0.348346, Accuracy=0.912]\n",
      "10it [00:00, 35.04it/s, Epoch=12, k=3, Val Loss=0.585892, Val Total_Loss=0.766343, Val Accuracy=0.813]\n",
      "196it [00:06, 30.92it/s, Epoch=13, k=3, Loss=0.171352, Total Loss=0.308517, Accuracy=0.923]\n",
      "10it [00:00, 34.49it/s, Epoch=13, k=3, Val Loss=0.494393, Val Total_Loss=0.771883, Val Accuracy=0.801]\n",
      "196it [00:06, 31.74it/s, Epoch=14, k=3, Loss=0.167244, Total Loss=0.275813, Accuracy=0.933]\n",
      "10it [00:00, 34.77it/s, Epoch=14, k=3, Val Loss=0.515956, Val Total_Loss=0.777933, Val Accuracy=0.803]\n",
      "196it [00:06, 31.70it/s, Epoch=15, k=3, Loss=0.164792, Total Loss=0.247405, Accuracy=0.939]\n",
      "10it [00:00, 35.38it/s, Epoch=15, k=3, Val Loss=0.606240, Val Total_Loss=0.781015, Val Accuracy=0.801]\n",
      "196it [00:06, 30.81it/s, Epoch=16, k=3, Loss=0.127620, Total Loss=0.223993, Accuracy=0.946]\n",
      "10it [00:00, 34.33it/s, Epoch=16, k=3, Val Loss=0.642167, Val Total_Loss=0.761787, Val Accuracy=0.793]\n",
      "196it [00:06, 30.92it/s, Epoch=17, k=3, Loss=0.088579, Total Loss=0.207438, Accuracy=0.95] \n",
      "10it [00:00, 35.38it/s, Epoch=17, k=3, Val Loss=0.526559, Val Total_Loss=0.784678, Val Accuracy=0.812]\n",
      "196it [00:06, 31.34it/s, Epoch=18, k=3, Loss=0.120595, Total Loss=0.182173, Accuracy=0.957]\n",
      "10it [00:00, 36.92it/s, Epoch=18, k=3, Val Loss=0.513549, Val Total_Loss=0.773746, Val Accuracy=0.799]\n",
      "196it [00:06, 31.13it/s, Epoch=19, k=3, Loss=0.049445, Total Loss=0.167249, Accuracy=0.961]\n",
      "10it [00:00, 35.07it/s, Epoch=19, k=3, Val Loss=0.522566, Val Total_Loss=0.761580, Val Accuracy=0.817]\n",
      "196it [00:06, 31.58it/s, Epoch=20, k=3, Loss=0.118594, Total Loss=0.150069, Accuracy=0.966]\n",
      "10it [00:00, 36.29it/s, Epoch=20, k=3, Val Loss=0.558724, Val Total_Loss=0.773232, Val Accuracy=0.817]\n",
      "196it [00:06, 31.73it/s, Epoch=21, k=3, Loss=0.069858, Total Loss=0.133689, Accuracy=0.971]\n",
      "10it [00:00, 35.90it/s, Epoch=21, k=3, Val Loss=0.497884, Val Total_Loss=0.783734, Val Accuracy=0.824]\n",
      "196it [00:06, 31.71it/s, Epoch=22, k=3, Loss=0.084598, Total Loss=0.121049, Accuracy=0.972]\n",
      "10it [00:00, 34.47it/s, Epoch=22, k=3, Val Loss=0.549596, Val Total_Loss=0.801295, Val Accuracy=0.808]\n",
      "196it [00:06, 31.29it/s, Epoch=23, k=3, Loss=0.041465, Total Loss=0.109482, Accuracy=0.978]\n",
      "10it [00:00, 34.91it/s, Epoch=23, k=3, Val Loss=0.517120, Val Total_Loss=0.795340, Val Accuracy=0.801]\n",
      "196it [00:06, 31.04it/s, Epoch=24, k=3, Loss=0.030426, Total Loss=0.094631, Accuracy=0.981]\n",
      "10it [00:00, 35.72it/s, Epoch=24, k=3, Val Loss=0.724672, Val Total_Loss=0.795054, Val Accuracy=0.824]\n",
      "196it [00:06, 31.02it/s, Epoch=25, k=3, Loss=0.033271, Total Loss=0.088769, Accuracy=0.983]\n",
      "10it [00:00, 35.11it/s, Epoch=25, k=3, Val Loss=0.623117, Val Total_Loss=0.834629, Val Accuracy=0.821]\n",
      "196it [00:06, 31.35it/s, Epoch=26, k=3, Loss=0.037295, Total Loss=0.078607, Accuracy=0.985]\n",
      "10it [00:00, 34.51it/s, Epoch=26, k=3, Val Loss=0.481823, Val Total_Loss=0.832152, Val Accuracy=0.817]\n",
      "196it [00:06, 31.25it/s, Epoch=27, k=3, Loss=0.022107, Total Loss=0.070214, Accuracy=0.988]\n",
      "10it [00:00, 35.26it/s, Epoch=27, k=3, Val Loss=0.470711, Val Total_Loss=0.837992, Val Accuracy=0.809]\n",
      "196it [00:06, 31.26it/s, Epoch=28, k=3, Loss=0.032531, Total Loss=0.068545, Accuracy=0.987]\n",
      "10it [00:00, 34.86it/s, Epoch=28, k=3, Val Loss=0.488002, Val Total_Loss=0.826498, Val Accuracy=0.83]\n"
     ]
    },
    {
     "data": {
      "image/png": "[encoded data removed]",
      "text/plain": [
       "<Figure size 432x288 with 1 Axes>"
      ]
     },
     "metadata": {
      "needs_background": "light"
     },
     "output_type": "display_data"
    },
    {
     "name": "stderr",
     "output_type": "stream",
     "text": [
      "0it [00:00, ?it/s, Epoch=1, k=4, Loss=4.670118, Total Loss=4.670118, Accuracy=0.0156]"
     ]
    },
    {
     "name": "stdout",
     "output_type": "stream",
     "text": [
      "Init checkpoint restored!!\n"
     ]
    },
    {
     "name": "stderr",
     "output_type": "stream",
     "text": [
      "196it [00:06, 30.88it/s, Epoch=1, k=4, Loss=2.020737, Total Loss=2.274522, Accuracy=0.535]\n",
      "10it [00:00, 35.02it/s, Epoch=1, k=4, Val Loss=2.220313, Val Total_Loss=1.705879, Val Accuracy=0.615]\n",
      "196it [00:06, 30.88it/s, Epoch=2, k=4, Loss=1.399983, Total Loss=1.426917, Accuracy=0.653]\n",
      "10it [00:00, 35.13it/s, Epoch=2, k=4, Val Loss=1.692500, Val Total_Loss=1.347027, Val Accuracy=0.66]\n",
      "196it [00:06, 31.21it/s, Epoch=3, k=4, Loss=1.124068, Total Loss=1.140195, Accuracy=0.713]\n",
      "10it [00:00, 35.20it/s, Epoch=3, k=4, Val Loss=1.580915, Val Total_Loss=1.186990, Val Accuracy=0.695]\n",
      "196it [00:06, 31.93it/s, Epoch=4, k=4, Loss=0.955350, Total Loss=0.967626, Accuracy=0.753]\n",
      "10it [00:00, 35.77it/s, Epoch=4, k=4, Val Loss=1.355157, Val Total_Loss=1.076557, Val Accuracy=0.723]\n",
      "196it [00:06, 31.12it/s, Epoch=5, k=4, Loss=0.889303, Total Loss=0.833045, Accuracy=0.785]\n",
      "10it [00:00, 35.05it/s, Epoch=5, k=4, Val Loss=1.294078, Val Total_Loss=1.022948, Val Accuracy=0.761]\n",
      "196it [00:06, 31.49it/s, Epoch=6, k=4, Loss=0.622866, Total Loss=0.726339, Accuracy=0.81] \n",
      "10it [00:00, 34.20it/s, Epoch=6, k=4, Val Loss=1.252423, Val Total_Loss=0.936583, Val Accuracy=0.765]\n",
      "196it [00:06, 31.86it/s, Epoch=7, k=4, Loss=0.532857, Total Loss=0.639291, Accuracy=0.829]\n",
      "10it [00:00, 35.46it/s, Epoch=7, k=4, Val Loss=0.999908, Val Total_Loss=0.856161, Val Accuracy=0.774]\n",
      "196it [00:06, 31.14it/s, Epoch=8, k=4, Loss=0.443242, Total Loss=0.576996, Accuracy=0.846]\n",
      "10it [00:00, 35.09it/s, Epoch=8, k=4, Val Loss=0.986433, Val Total_Loss=0.856493, Val Accuracy=0.768]\n",
      "196it [00:06, 31.19it/s, Epoch=9, k=4, Loss=0.500209, Total Loss=0.511778, Accuracy=0.866]\n",
      "10it [00:00, 36.00it/s, Epoch=9, k=4, Val Loss=0.780195, Val Total_Loss=0.786853, Val Accuracy=0.797]\n",
      "196it [00:06, 31.59it/s, Epoch=10, k=4, Loss=0.528673, Total Loss=0.456841, Accuracy=0.879]\n",
      "10it [00:00, 36.04it/s, Epoch=10, k=4, Val Loss=0.697565, Val Total_Loss=0.746619, Val Accuracy=0.797]\n",
      "196it [00:06, 30.57it/s, Epoch=11, k=4, Loss=0.330014, Total Loss=0.413590, Accuracy=0.891]\n",
      "10it [00:00, 35.55it/s, Epoch=11, k=4, Val Loss=0.913879, Val Total_Loss=0.758342, Val Accuracy=0.796]\n",
      "196it [00:06, 31.68it/s, Epoch=12, k=4, Loss=0.341585, Total Loss=0.378090, Accuracy=0.9]  \n",
      "10it [00:00, 42.24it/s, Epoch=12, k=4, Val Loss=0.736058, Val Total_Loss=0.688081, Val Accuracy=0.797]\n",
      "196it [00:06, 30.83it/s, Epoch=13, k=4, Loss=0.212083, Total Loss=0.343397, Accuracy=0.909]\n",
      "10it [00:00, 34.63it/s, Epoch=13, k=4, Val Loss=0.738017, Val Total_Loss=0.653086, Val Accuracy=0.82]\n",
      "196it [00:06, 31.01it/s, Epoch=14, k=4, Loss=0.245756, Total Loss=0.311777, Accuracy=0.918]\n",
      "10it [00:00, 34.40it/s, Epoch=14, k=4, Val Loss=0.692609, Val Total_Loss=0.652696, Val Accuracy=0.822]\n",
      "196it [00:06, 31.36it/s, Epoch=15, k=4, Loss=0.217649, Total Loss=0.278015, Accuracy=0.929]\n",
      "10it [00:00, 34.32it/s, Epoch=15, k=4, Val Loss=0.725331, Val Total_Loss=0.668538, Val Accuracy=0.802]\n",
      "196it [00:06, 31.21it/s, Epoch=16, k=4, Loss=0.180456, Total Loss=0.253605, Accuracy=0.933]\n",
      "10it [00:00, 34.92it/s, Epoch=16, k=4, Val Loss=0.660374, Val Total_Loss=0.590207, Val Accuracy=0.836]\n",
      "196it [00:06, 30.95it/s, Epoch=17, k=4, Loss=0.216022, Total Loss=0.234202, Accuracy=0.938]\n",
      "10it [00:00, 36.15it/s, Epoch=17, k=4, Val Loss=0.723765, Val Total_Loss=0.628920, Val Accuracy=0.834]\n",
      "196it [00:06, 31.08it/s, Epoch=18, k=4, Loss=0.184966, Total Loss=0.207504, Accuracy=0.947]\n",
      "10it [00:00, 37.25it/s, Epoch=18, k=4, Val Loss=0.668977, Val Total_Loss=0.625432, Val Accuracy=0.833]\n",
      "196it [00:06, 31.56it/s, Epoch=19, k=4, Loss=0.165020, Total Loss=0.187646, Accuracy=0.954]\n",
      "10it [00:00, 35.49it/s, Epoch=19, k=4, Val Loss=0.709560, Val Total_Loss=0.619285, Val Accuracy=0.828]\n",
      "196it [00:06, 31.00it/s, Epoch=20, k=4, Loss=0.109558, Total Loss=0.172182, Accuracy=0.957]\n",
      "10it [00:00, 35.74it/s, Epoch=20, k=4, Val Loss=0.666900, Val Total_Loss=0.611226, Val Accuracy=0.827]\n",
      "196it [00:06, 31.14it/s, Epoch=21, k=4, Loss=0.103433, Total Loss=0.153874, Accuracy=0.964]\n",
      "10it [00:00, 34.90it/s, Epoch=21, k=4, Val Loss=0.668095, Val Total_Loss=0.632202, Val Accuracy=0.837]\n",
      "196it [00:06, 31.94it/s, Epoch=22, k=4, Loss=0.080469, Total Loss=0.138733, Accuracy=0.967]\n",
      "10it [00:00, 36.07it/s, Epoch=22, k=4, Val Loss=0.687857, Val Total_Loss=0.644608, Val Accuracy=0.835]\n",
      "196it [00:06, 31.14it/s, Epoch=23, k=4, Loss=0.099369, Total Loss=0.128926, Accuracy=0.97] \n",
      "10it [00:00, 35.67it/s, Epoch=23, k=4, Val Loss=0.698177, Val Total_Loss=0.621885, Val Accuracy=0.837]\n",
      "196it [00:06, 31.25it/s, Epoch=24, k=4, Loss=0.043584, Total Loss=0.112321, Accuracy=0.975]\n",
      "10it [00:00, 36.39it/s, Epoch=24, k=4, Val Loss=0.672981, Val Total_Loss=0.636901, Val Accuracy=0.822]\n",
      "196it [00:06, 30.77it/s, Epoch=25, k=4, Loss=0.092339, Total Loss=0.102638, Accuracy=0.978]\n",
      "10it [00:00, 35.26it/s, Epoch=25, k=4, Val Loss=0.687464, Val Total_Loss=0.645312, Val Accuracy=0.837]\n"
     ]
    },
    {
     "data": {
      "image/png": "[encoded data removed]",
      "text/plain": [
       "<Figure size 432x288 with 1 Axes>"
      ]
     },
     "metadata": {
      "needs_background": "light"
     },
     "output_type": "display_data"
    }
   ],
   "source": [
    "k_fold = StratifiedKFold(n_splits=k, shuffle=True, random_state=42)\n",
    "\n",
    "for i, (train_idx, val_idx) in enumerate(k_fold.split(x_train_ori, y_train_ori[:,1])):\n",
    "    x_train, y_train = x_train_ori[train_idx], y_train_ori[train_idx]\n",
    "    x_val, y_val = x_train_ori[val_idx], y_train_ori[val_idx]    \n",
    "    \n",
    "    x_train, y_train = shift(x_train, y_train)\n",
    "    #x_val, y_val = shift(x_val, y_val)\n",
    "    x_train, y_train = shuffle(x_train, y_train)\n",
    "    \n",
    "    train_dataset = tf.data.Dataset.from_tensor_slices((x_train, y_train))\n",
    "    train_dataset = train_dataset.map(lambda item1, item2: tf.numpy_function(map_func, [item1, item2], [tf.float32, tf.int32]), num_parallel_calls=tf.data.experimental.AUTOTUNE)\n",
    "    train_dataset = train_dataset.batch(BATCH_SIZE)\n",
    "    train_dataset = train_dataset.prefetch(buffer_size=tf.data.experimental.AUTOTUNE)\n",
    "\n",
    "    val_dataset = tf.data.Dataset.from_tensor_slices((x_val, y_val))\n",
    "    val_dataset = val_dataset.map(lambda item1, item2: tf.numpy_function(map_func, [item1, item2], [tf.float32, tf.int32]), num_parallel_calls=tf.data.experimental.AUTOTUNE)\n",
    "    val_dataset = val_dataset.batch(BATCH_SIZE)\n",
    "    val_dataset = val_dataset.prefetch(buffer_size=tf.data.experimental.AUTOTUNE)\n",
    "    \n",
    "    if init_ckpt_manager.latest_checkpoint:\n",
    "        init_ckpt.restore(init_ckpt_manager.latest_checkpoint)\n",
    "        print ('Init checkpoint restored!!')\n",
    "    \n",
    "    checkpoint_path = path+f\"/checkpoints/model_{i}\"\n",
    "\n",
    "    ckpt = tf.train.Checkpoint(transformer=transformer, optimizer=optimizer)\n",
    "\n",
    "    ckpt_manager = tf.train.CheckpointManager(ckpt, checkpoint_path, max_to_keep=5)\n",
    "    loss_plot, val_loss_plot = [], []\n",
    "    for epoch in range(EPOCHS):\n",
    "        total_loss, total_val_loss = 0, 0\n",
    "        train_accuracy.reset_states()\n",
    "            \n",
    "        tqdm_dataset = tqdm(enumerate(train_dataset))\n",
    "        \n",
    "        for (batch, (tensor, target)) in tqdm_dataset:\n",
    "            \n",
    "            batch_loss, pred_list = train_step(tensor, target, training=True)\n",
    "            total_loss += batch_loss\n",
    "            \n",
    "            tqdm_dataset.set_postfix({\n",
    "                'Epoch': epoch + 1,\n",
    "                'k': i,\n",
    "                'Loss': '{:06f}'.format(batch_loss.numpy()),\n",
    "                'Total Loss' : '{:06f}'.format(total_loss/(batch+1)),\n",
    "                'Accuracy':train_accuracy.result().numpy(), \n",
    "            })\n",
    "            if batch % 30 == 0:\n",
    "                gc.collect()\n",
    "\n",
    "        loss_plot.append(total_loss / (batch+1))\n",
    "        \n",
    "        val_accuracy.reset_states()\n",
    "        \n",
    "        tqdm_dataset_val = tqdm(enumerate(val_dataset))\n",
    "\n",
    "        for (batch, (tensor, target)) in tqdm_dataset_val:\n",
    "\n",
    "            batch_val_loss, pred_list = train_step(tensor, target, training=False)\n",
    "            total_val_loss += batch_val_loss\n",
    "            \n",
    "            tqdm_dataset_val.set_postfix({\n",
    "                'Epoch': epoch + 1,\n",
    "                'k': i,\n",
    "                'Val Loss': '{:06f}'.format(batch_val_loss.numpy()),\n",
    "                'Val Total_Loss' : '{:06f}'.format(total_val_loss/(batch+1)),\n",
    "                'Val Accuracy':val_accuracy.result().numpy(), \n",
    "            })\n",
    "            \n",
    "        val_loss_plot.append(total_val_loss / (batch+1))\n",
    "        \n",
    "        if np.min(val_loss_plot) == val_loss_plot[-1]:\n",
    "            ckpt_manager.save()\n",
    "        \n",
    "        if epoch >= early_stopping and np.min(val_loss_plot[-early_stopping:]) == val_loss_plot[-early_stopping]:\n",
    "            break\n",
    "    \n",
    "    plt.plot(loss_plot)\n",
    "    plt.plot(val_loss_plot)\n",
    "    plt.show()"
   ]
  },
  {
   "cell_type": "code",
   "execution_count": 53,
   "metadata": {
    "id": "sP7-s_JNFTGc"
   },
   "outputs": [
    {
     "data": {
      "text/plain": [
       "2733"
      ]
     },
     "execution_count": 53,
     "metadata": {},
     "output_type": "execute_result"
    }
   ],
   "source": [
    "gc.collect()"
   ]
  },
  {
   "cell_type": "markdown",
   "metadata": {},
   "source": [
    "# 추론 함수 정의"
   ]
  },
  {
   "cell_type": "code",
   "execution_count": 54,
   "metadata": {
    "id": "gN1D0gZ7IbM6"
   },
   "outputs": [],
   "source": [
    "@tf.function\n",
    "def evaluate(tensor):\n",
    "    decoder_input = [0] * tensor.shape[0]\n",
    "    output = tf.expand_dims(decoder_input,1)\n",
    "\n",
    "    # predictions.shape == (batch_size, seq_len, vocab_size)\n",
    "    predictions = transformer(tensor,\n",
    "                              output,\n",
    "                              False,\n",
    "                              None,\n",
    "                              None)\n",
    "    \n",
    "    # select the last word from the seq_len dimension\n",
    "    proba = predictions[: ,-1:, :]  # (batch_size, 1, vocab_size)\n",
    "    \n",
    "    predicted_id = tf.cast(tf.argmax(proba, axis=-1), tf.int32)\n",
    "    \n",
    "    output = tf.concat([output, predicted_id], axis=-1)\n",
    "\n",
    "    return output, proba"
   ]
  },
  {
   "cell_type": "markdown",
   "metadata": {},
   "source": [
    "## TTA 함수 정의"
   ]
  },
  {
   "cell_type": "code",
   "execution_count": 55,
   "metadata": {},
   "outputs": [],
   "source": [
    "def test_map_func(data):\n",
    "    data = np.roll(data, j*10, axis=1)\n",
    "    return data"
   ]
  },
  {
   "cell_type": "code",
   "execution_count": 56,
   "metadata": {},
   "outputs": [],
   "source": [
    "test_dataset = tf.data.Dataset.from_tensor_slices((x_test))\n",
    "test_dataset = test_dataset.map(lambda item1: tf.numpy_function(test_map_func, [item1], [tf.float32]), num_parallel_calls=tf.data.experimental.AUTOTUNE)\n",
    "test_dataset = test_dataset.batch(BATCH_SIZE)\n",
    "test_dataset = test_dataset.prefetch(buffer_size=tf.data.experimental.AUTOTUNE)"
   ]
  },
  {
   "cell_type": "markdown",
   "metadata": {},
   "source": [
    "# 추론"
   ]
  },
  {
   "cell_type": "code",
   "execution_count": 57,
   "metadata": {
    "id": "f2BC-cGXx8t0"
   },
   "outputs": [
    {
     "name": "stderr",
     "output_type": "stream",
     "text": [
      "100%|██████████| 60/60 [00:19<00:00,  3.10it/s]\n",
      "100%|██████████| 60/60 [00:18<00:00,  3.20it/s]\n",
      "100%|██████████| 60/60 [00:18<00:00,  3.17it/s]\n",
      "100%|██████████| 60/60 [00:18<00:00,  3.21it/s]\n",
      "100%|██████████| 60/60 [00:18<00:00,  3.20it/s]\n"
     ]
    }
   ],
   "source": [
    "preds = []\n",
    "\n",
    "for i in range(k):\n",
    "    checkpoint_path = path+f\"/checkpoints/model_{i}\"\n",
    "    ckpt_manager = tf.train.CheckpointManager(ckpt, checkpoint_path, max_to_keep=5)\n",
    "\n",
    "    if ckpt_manager.latest_checkpoint:\n",
    "        ckpt.restore(ckpt_manager.latest_checkpoint)\n",
    "    \n",
    "    for j in tqdm(range(60)):\n",
    "        pred = []\n",
    "        for batch in iter(test_dataset):\n",
    "            output, proba = evaluate(batch[0])\n",
    "            proba = proba.numpy()[:,0,:]\n",
    "            pred.extend(proba)\n",
    "        pred = np.array(pred)\n",
    "        preds.append(pred)"
   ]
  },
  {
   "cell_type": "markdown",
   "metadata": {},
   "source": [
    "# 앙상블 및 제출"
   ]
  },
  {
   "cell_type": "code",
   "execution_count": 58,
   "metadata": {
    "id": "JVCGAbKNKDOW"
   },
   "outputs": [],
   "source": [
    "pred = np.mean(preds, axis=0)"
   ]
  },
  {
   "cell_type": "code",
   "execution_count": 59,
   "metadata": {
    "id": "rBwm2Gh56krZ"
   },
   "outputs": [],
   "source": [
    "sample_submission.iloc[:,1:] = pred"
   ]
  },
  {
   "cell_type": "code",
   "execution_count": 60,
   "metadata": {
    "id": "vmzS02A36koK"
   },
   "outputs": [
    {
     "data": {
      "text/html": [
       "<div>\n",
       "<style scoped>\n",
       "    .dataframe tbody tr th:only-of-type {\n",
       "        vertical-align: middle;\n",
       "    }\n",
       "\n",
       "    .dataframe tbody tr th {\n",
       "        vertical-align: top;\n",
       "    }\n",
       "\n",
       "    .dataframe thead th {\n",
       "        text-align: right;\n",
       "    }\n",
       "</style>\n",
       "<table border=\"1\" class=\"dataframe\">\n",
       "  <thead>\n",
       "    <tr style=\"text-align: right;\">\n",
       "      <th></th>\n",
       "      <th>id</th>\n",
       "      <th>0</th>\n",
       "      <th>1</th>\n",
       "      <th>2</th>\n",
       "      <th>3</th>\n",
       "      <th>4</th>\n",
       "      <th>5</th>\n",
       "      <th>6</th>\n",
       "      <th>7</th>\n",
       "      <th>8</th>\n",
       "      <th>...</th>\n",
       "      <th>51</th>\n",
       "      <th>52</th>\n",
       "      <th>53</th>\n",
       "      <th>54</th>\n",
       "      <th>55</th>\n",
       "      <th>56</th>\n",
       "      <th>57</th>\n",
       "      <th>58</th>\n",
       "      <th>59</th>\n",
       "      <th>60</th>\n",
       "    </tr>\n",
       "  </thead>\n",
       "  <tbody>\n",
       "    <tr>\n",
       "      <th>0</th>\n",
       "      <td>3125</td>\n",
       "      <td>0.000831</td>\n",
       "      <td>6.605953e-04</td>\n",
       "      <td>1.274750e-04</td>\n",
       "      <td>6.436799e-04</td>\n",
       "      <td>1.047896e-03</td>\n",
       "      <td>0.000033</td>\n",
       "      <td>2.589992e-03</td>\n",
       "      <td>6.602274e-03</td>\n",
       "      <td>0.000008</td>\n",
       "      <td>...</td>\n",
       "      <td>1.249994e-02</td>\n",
       "      <td>1.452982e-03</td>\n",
       "      <td>3.048334e-03</td>\n",
       "      <td>9.570552e-04</td>\n",
       "      <td>5.962851e-05</td>\n",
       "      <td>2.295175e-04</td>\n",
       "      <td>0.000252</td>\n",
       "      <td>7.524589e-02</td>\n",
       "      <td>1.208344e-04</td>\n",
       "      <td>0.000153</td>\n",
       "    </tr>\n",
       "    <tr>\n",
       "      <th>1</th>\n",
       "      <td>3126</td>\n",
       "      <td>0.000591</td>\n",
       "      <td>1.400989e-04</td>\n",
       "      <td>3.191709e-06</td>\n",
       "      <td>7.375595e-05</td>\n",
       "      <td>4.392918e-05</td>\n",
       "      <td>0.000129</td>\n",
       "      <td>2.204269e-05</td>\n",
       "      <td>2.765137e-04</td>\n",
       "      <td>0.000012</td>\n",
       "      <td>...</td>\n",
       "      <td>4.150725e-06</td>\n",
       "      <td>1.756887e-05</td>\n",
       "      <td>2.753128e-05</td>\n",
       "      <td>6.739267e-05</td>\n",
       "      <td>8.481072e-05</td>\n",
       "      <td>8.093557e-05</td>\n",
       "      <td>0.002746</td>\n",
       "      <td>7.568773e-05</td>\n",
       "      <td>8.220512e-05</td>\n",
       "      <td>0.000177</td>\n",
       "    </tr>\n",
       "    <tr>\n",
       "      <th>2</th>\n",
       "      <td>3127</td>\n",
       "      <td>0.002012</td>\n",
       "      <td>3.520753e-02</td>\n",
       "      <td>2.919007e-05</td>\n",
       "      <td>5.320263e-04</td>\n",
       "      <td>3.032702e-05</td>\n",
       "      <td>0.000599</td>\n",
       "      <td>1.420229e-04</td>\n",
       "      <td>6.110428e-04</td>\n",
       "      <td>0.002983</td>\n",
       "      <td>...</td>\n",
       "      <td>1.762791e-05</td>\n",
       "      <td>1.412787e-04</td>\n",
       "      <td>1.429662e-04</td>\n",
       "      <td>1.532332e-02</td>\n",
       "      <td>8.171324e-05</td>\n",
       "      <td>2.187825e-04</td>\n",
       "      <td>0.000056</td>\n",
       "      <td>4.201277e-05</td>\n",
       "      <td>2.538917e-03</td>\n",
       "      <td>0.001018</td>\n",
       "    </tr>\n",
       "    <tr>\n",
       "      <th>3</th>\n",
       "      <td>3128</td>\n",
       "      <td>0.000054</td>\n",
       "      <td>3.287630e-06</td>\n",
       "      <td>1.864961e-05</td>\n",
       "      <td>3.236853e-06</td>\n",
       "      <td>8.615674e-07</td>\n",
       "      <td>0.000003</td>\n",
       "      <td>8.541592e-06</td>\n",
       "      <td>2.141009e-06</td>\n",
       "      <td>0.000008</td>\n",
       "      <td>...</td>\n",
       "      <td>4.766217e-06</td>\n",
       "      <td>1.443075e-05</td>\n",
       "      <td>6.212510e-06</td>\n",
       "      <td>1.627816e-05</td>\n",
       "      <td>1.245904e-05</td>\n",
       "      <td>2.186957e-06</td>\n",
       "      <td>0.000034</td>\n",
       "      <td>4.607265e-06</td>\n",
       "      <td>1.398872e-06</td>\n",
       "      <td>0.000044</td>\n",
       "    </tr>\n",
       "    <tr>\n",
       "      <th>4</th>\n",
       "      <td>3129</td>\n",
       "      <td>0.000056</td>\n",
       "      <td>1.526584e-06</td>\n",
       "      <td>2.705126e-07</td>\n",
       "      <td>1.728681e-06</td>\n",
       "      <td>8.093693e-06</td>\n",
       "      <td>0.000004</td>\n",
       "      <td>1.958829e-06</td>\n",
       "      <td>9.415847e-07</td>\n",
       "      <td>0.000003</td>\n",
       "      <td>...</td>\n",
       "      <td>1.370269e-06</td>\n",
       "      <td>3.072895e-06</td>\n",
       "      <td>7.545499e-07</td>\n",
       "      <td>8.253959e-07</td>\n",
       "      <td>4.713930e-07</td>\n",
       "      <td>1.093943e-06</td>\n",
       "      <td>0.000007</td>\n",
       "      <td>7.471754e-07</td>\n",
       "      <td>4.557480e-07</td>\n",
       "      <td>0.000015</td>\n",
       "    </tr>\n",
       "    <tr>\n",
       "      <th>...</th>\n",
       "      <td>...</td>\n",
       "      <td>...</td>\n",
       "      <td>...</td>\n",
       "      <td>...</td>\n",
       "      <td>...</td>\n",
       "      <td>...</td>\n",
       "      <td>...</td>\n",
       "      <td>...</td>\n",
       "      <td>...</td>\n",
       "      <td>...</td>\n",
       "      <td>...</td>\n",
       "      <td>...</td>\n",
       "      <td>...</td>\n",
       "      <td>...</td>\n",
       "      <td>...</td>\n",
       "      <td>...</td>\n",
       "      <td>...</td>\n",
       "      <td>...</td>\n",
       "      <td>...</td>\n",
       "      <td>...</td>\n",
       "      <td>...</td>\n",
       "    </tr>\n",
       "    <tr>\n",
       "      <th>777</th>\n",
       "      <td>3902</td>\n",
       "      <td>0.000300</td>\n",
       "      <td>6.029083e-06</td>\n",
       "      <td>8.796888e-07</td>\n",
       "      <td>2.521420e-07</td>\n",
       "      <td>1.360858e-04</td>\n",
       "      <td>0.000012</td>\n",
       "      <td>2.016608e-06</td>\n",
       "      <td>8.516466e-06</td>\n",
       "      <td>0.000011</td>\n",
       "      <td>...</td>\n",
       "      <td>3.176310e-06</td>\n",
       "      <td>1.022096e-05</td>\n",
       "      <td>4.121788e-06</td>\n",
       "      <td>2.679337e-06</td>\n",
       "      <td>1.075466e-06</td>\n",
       "      <td>7.658955e-07</td>\n",
       "      <td>0.000166</td>\n",
       "      <td>2.201070e-06</td>\n",
       "      <td>1.417405e-06</td>\n",
       "      <td>0.000139</td>\n",
       "    </tr>\n",
       "    <tr>\n",
       "      <th>778</th>\n",
       "      <td>3903</td>\n",
       "      <td>0.000032</td>\n",
       "      <td>2.670637e-06</td>\n",
       "      <td>4.121725e-07</td>\n",
       "      <td>5.528962e-06</td>\n",
       "      <td>1.596971e-06</td>\n",
       "      <td>0.000018</td>\n",
       "      <td>2.766173e-06</td>\n",
       "      <td>4.635297e-07</td>\n",
       "      <td>0.000003</td>\n",
       "      <td>...</td>\n",
       "      <td>2.260644e-06</td>\n",
       "      <td>2.791079e-06</td>\n",
       "      <td>2.899571e-06</td>\n",
       "      <td>6.088819e-06</td>\n",
       "      <td>2.146376e-06</td>\n",
       "      <td>1.143142e-05</td>\n",
       "      <td>0.000014</td>\n",
       "      <td>1.030003e-06</td>\n",
       "      <td>5.941918e-07</td>\n",
       "      <td>0.000029</td>\n",
       "    </tr>\n",
       "    <tr>\n",
       "      <th>779</th>\n",
       "      <td>3904</td>\n",
       "      <td>0.000020</td>\n",
       "      <td>1.717583e-06</td>\n",
       "      <td>5.692573e-07</td>\n",
       "      <td>2.064381e-06</td>\n",
       "      <td>1.592880e-06</td>\n",
       "      <td>0.000002</td>\n",
       "      <td>1.236207e-06</td>\n",
       "      <td>2.610548e-07</td>\n",
       "      <td>0.000003</td>\n",
       "      <td>...</td>\n",
       "      <td>5.543832e-07</td>\n",
       "      <td>1.246475e-06</td>\n",
       "      <td>7.107570e-07</td>\n",
       "      <td>8.104086e-07</td>\n",
       "      <td>9.033349e-07</td>\n",
       "      <td>1.467922e-06</td>\n",
       "      <td>0.000010</td>\n",
       "      <td>1.250802e-06</td>\n",
       "      <td>8.996398e-07</td>\n",
       "      <td>0.000011</td>\n",
       "    </tr>\n",
       "    <tr>\n",
       "      <th>780</th>\n",
       "      <td>3905</td>\n",
       "      <td>0.000045</td>\n",
       "      <td>5.692340e-04</td>\n",
       "      <td>4.960470e-06</td>\n",
       "      <td>3.777838e-06</td>\n",
       "      <td>2.789270e-05</td>\n",
       "      <td>0.000004</td>\n",
       "      <td>6.244658e-04</td>\n",
       "      <td>9.112439e-05</td>\n",
       "      <td>0.000006</td>\n",
       "      <td>...</td>\n",
       "      <td>3.075799e-06</td>\n",
       "      <td>2.296756e-05</td>\n",
       "      <td>2.971411e-06</td>\n",
       "      <td>6.535201e-05</td>\n",
       "      <td>2.298386e-06</td>\n",
       "      <td>3.003649e-05</td>\n",
       "      <td>0.000135</td>\n",
       "      <td>5.485306e-05</td>\n",
       "      <td>4.503372e-05</td>\n",
       "      <td>0.000003</td>\n",
       "    </tr>\n",
       "    <tr>\n",
       "      <th>781</th>\n",
       "      <td>3906</td>\n",
       "      <td>0.000005</td>\n",
       "      <td>4.695298e-07</td>\n",
       "      <td>1.453663e-06</td>\n",
       "      <td>1.270042e-06</td>\n",
       "      <td>1.345175e-06</td>\n",
       "      <td>0.000005</td>\n",
       "      <td>3.092308e-07</td>\n",
       "      <td>2.550452e-07</td>\n",
       "      <td>0.000008</td>\n",
       "      <td>...</td>\n",
       "      <td>1.200365e-07</td>\n",
       "      <td>8.841590e-07</td>\n",
       "      <td>6.871684e-07</td>\n",
       "      <td>5.217362e-07</td>\n",
       "      <td>1.267834e-06</td>\n",
       "      <td>6.303545e-07</td>\n",
       "      <td>0.000405</td>\n",
       "      <td>3.057305e-06</td>\n",
       "      <td>1.493240e-07</td>\n",
       "      <td>0.000049</td>\n",
       "    </tr>\n",
       "  </tbody>\n",
       "</table>\n",
       "<p>782 rows × 62 columns</p>\n",
       "</div>"
      ],
      "text/plain": [
       "       id         0             1             2             3             4  \\\n",
       "0    3125  0.000831  6.605953e-04  1.274750e-04  6.436799e-04  1.047896e-03   \n",
       "1    3126  0.000591  1.400989e-04  3.191709e-06  7.375595e-05  4.392918e-05   \n",
       "2    3127  0.002012  3.520753e-02  2.919007e-05  5.320263e-04  3.032702e-05   \n",
       "3    3128  0.000054  3.287630e-06  1.864961e-05  3.236853e-06  8.615674e-07   \n",
       "4    3129  0.000056  1.526584e-06  2.705126e-07  1.728681e-06  8.093693e-06   \n",
       "..    ...       ...           ...           ...           ...           ...   \n",
       "777  3902  0.000300  6.029083e-06  8.796888e-07  2.521420e-07  1.360858e-04   \n",
       "778  3903  0.000032  2.670637e-06  4.121725e-07  5.528962e-06  1.596971e-06   \n",
       "779  3904  0.000020  1.717583e-06  5.692573e-07  2.064381e-06  1.592880e-06   \n",
       "780  3905  0.000045  5.692340e-04  4.960470e-06  3.777838e-06  2.789270e-05   \n",
       "781  3906  0.000005  4.695298e-07  1.453663e-06  1.270042e-06  1.345175e-06   \n",
       "\n",
       "            5             6             7         8  ...            51  \\\n",
       "0    0.000033  2.589992e-03  6.602274e-03  0.000008  ...  1.249994e-02   \n",
       "1    0.000129  2.204269e-05  2.765137e-04  0.000012  ...  4.150725e-06   \n",
       "2    0.000599  1.420229e-04  6.110428e-04  0.002983  ...  1.762791e-05   \n",
       "3    0.000003  8.541592e-06  2.141009e-06  0.000008  ...  4.766217e-06   \n",
       "4    0.000004  1.958829e-06  9.415847e-07  0.000003  ...  1.370269e-06   \n",
       "..        ...           ...           ...       ...  ...           ...   \n",
       "777  0.000012  2.016608e-06  8.516466e-06  0.000011  ...  3.176310e-06   \n",
       "778  0.000018  2.766173e-06  4.635297e-07  0.000003  ...  2.260644e-06   \n",
       "779  0.000002  1.236207e-06  2.610548e-07  0.000003  ...  5.543832e-07   \n",
       "780  0.000004  6.244658e-04  9.112439e-05  0.000006  ...  3.075799e-06   \n",
       "781  0.000005  3.092308e-07  2.550452e-07  0.000008  ...  1.200365e-07   \n",
       "\n",
       "               52            53            54            55            56  \\\n",
       "0    1.452982e-03  3.048334e-03  9.570552e-04  5.962851e-05  2.295175e-04   \n",
       "1    1.756887e-05  2.753128e-05  6.739267e-05  8.481072e-05  8.093557e-05   \n",
       "2    1.412787e-04  1.429662e-04  1.532332e-02  8.171324e-05  2.187825e-04   \n",
       "3    1.443075e-05  6.212510e-06  1.627816e-05  1.245904e-05  2.186957e-06   \n",
       "4    3.072895e-06  7.545499e-07  8.253959e-07  4.713930e-07  1.093943e-06   \n",
       "..            ...           ...           ...           ...           ...   \n",
       "777  1.022096e-05  4.121788e-06  2.679337e-06  1.075466e-06  7.658955e-07   \n",
       "778  2.791079e-06  2.899571e-06  6.088819e-06  2.146376e-06  1.143142e-05   \n",
       "779  1.246475e-06  7.107570e-07  8.104086e-07  9.033349e-07  1.467922e-06   \n",
       "780  2.296756e-05  2.971411e-06  6.535201e-05  2.298386e-06  3.003649e-05   \n",
       "781  8.841590e-07  6.871684e-07  5.217362e-07  1.267834e-06  6.303545e-07   \n",
       "\n",
       "           57            58            59        60  \n",
       "0    0.000252  7.524589e-02  1.208344e-04  0.000153  \n",
       "1    0.002746  7.568773e-05  8.220512e-05  0.000177  \n",
       "2    0.000056  4.201277e-05  2.538917e-03  0.001018  \n",
       "3    0.000034  4.607265e-06  1.398872e-06  0.000044  \n",
       "4    0.000007  7.471754e-07  4.557480e-07  0.000015  \n",
       "..        ...           ...           ...       ...  \n",
       "777  0.000166  2.201070e-06  1.417405e-06  0.000139  \n",
       "778  0.000014  1.030003e-06  5.941918e-07  0.000029  \n",
       "779  0.000010  1.250802e-06  8.996398e-07  0.000011  \n",
       "780  0.000135  5.485306e-05  4.503372e-05  0.000003  \n",
       "781  0.000405  3.057305e-06  1.493240e-07  0.000049  \n",
       "\n",
       "[782 rows x 62 columns]"
      ]
     },
     "execution_count": 60,
     "metadata": {},
     "output_type": "execute_result"
    }
   ],
   "source": [
    "sample_submission"
   ]
  },
  {
   "cell_type": "code",
   "execution_count": 61,
   "metadata": {
    "id": "BVLVdNgXzrOQ"
   },
   "outputs": [],
   "source": [
    "sample_submission.to_csv(path+'/submission.csv', index=False)\n",
    "sample_submission.to_csv('./submission.csv', index=False)"
   ]
  }
 ],
 "metadata": {
  "accelerator": "GPU",
  "colab": {
   "authorship_tag": "ABX9TyNwunHcRqJtO5XkIO+jvrn+",
   "collapsed_sections": [],
   "mount_file_id": "18-Juj1t3ibKduxqJ6MRxj6kMcySQB96Q",
   "name": "Transformer.ipynb",
   "provenance": []
  },
  "kernelspec": {
   "display_name": "eunil",
   "language": "python",
   "name": "eunil"
  },
  "language_info": {
   "codemirror_mode": {
    "name": "ipython",
    "version": 3
   },
   "file_extension": ".py",
   "mimetype": "text/x-python",
   "name": "python",
   "nbconvert_exporter": "python",
   "pygments_lexer": "ipython3",
   "version": "3.6.12"
  }
 },
 "nbformat": 4,
 "nbformat_minor": 4
}
